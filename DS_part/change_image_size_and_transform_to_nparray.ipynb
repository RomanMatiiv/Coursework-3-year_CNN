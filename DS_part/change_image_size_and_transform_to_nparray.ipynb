{
 "cells": [
  {
   "cell_type": "code",
   "execution_count": 1,
   "metadata": {},
   "outputs": [],
   "source": [
    "from PIL import Image\n",
    "# from scipy.misc import imresize,imsave\n",
    "from scipy import misc\n",
    "\n",
    "\n",
    "import pandas as pd\n",
    "import os\n",
    "from tqdm import tqdm_notebook as tqdm\n",
    "from collections import Counter\n",
    "\n",
    "import warnings\n",
    "warnings.filterwarnings('ignore')\n",
    "\n",
    "PATH_TO_DATA=\"/Volumes/HDD/Datasets/coursework/vgg_face_dataset/images_50_crop/\"\n",
    "PATH_TO_OUT=\"/Volumes/HDD/Datasets/coursework/vgg_face_dataset/image_50_final/\"  #Удялять плохие фото вручную нужно от сюда\n",
    "PATH_TO_ARRAY=\"/Volumes/HDD/Datasets/coursework/vgg_face_dataset/image_50_array/\"\n",
    "PATH_TO_LABELS=\"/Volumes/HDD/Datasets/coursework/vgg_face_dataset/files/_all_in_one_50.csv\""
   ]
  },
  {
   "cell_type": "markdown",
   "metadata": {},
   "source": [
    "### Вычисляю оптимальный размер к которому буду приводить"
   ]
  },
  {
   "cell_type": "code",
   "execution_count": 3,
   "metadata": {},
   "outputs": [
    {
     "data": {
      "application/vnd.jupyter.widget-view+json": {
       "model_id": "fe41eea8b76946529ffe77418007a9e1",
       "version_major": 2,
       "version_minor": 0
      },
      "text/html": [
       "<p>Failed to display Jupyter Widget of type <code>HBox</code>.</p>\n",
       "<p>\n",
       "  If you're reading this message in the Jupyter Notebook or JupyterLab Notebook, it may mean\n",
       "  that the widgets JavaScript is still loading. If this message persists, it\n",
       "  likely means that the widgets JavaScript library is either not installed or\n",
       "  not enabled. See the <a href=\"https://ipywidgets.readthedocs.io/en/stable/user_install.html\">Jupyter\n",
       "  Widgets Documentation</a> for setup instructions.\n",
       "</p>\n",
       "<p>\n",
       "  If you're reading this message in another frontend (for example, a static\n",
       "  rendering on GitHub or <a href=\"https://nbviewer.jupyter.org/\">NBViewer</a>),\n",
       "  it may mean that your frontend doesn't currently support widgets.\n",
       "</p>\n"
      ],
      "text/plain": [
       "HBox(children=(IntProgress(value=0, max=16705), HTML(value='')))"
      ]
     },
     "metadata": {},
     "output_type": "display_data"
    },
    {
     "name": "stdout",
     "output_type": "stream",
     "text": [
      "\n"
     ]
    }
   ],
   "source": [
    "size=[]\n",
    "for file in tqdm(os.listdir(PATH_TO_DATA)):\n",
    "        name,ext=os.path.splitext(file)\n",
    "        if ext==\".jpg\":\n",
    "            img = Image.open(PATH_TO_DATA+file)\n",
    "            size.append(img.size)"
   ]
  },
  {
   "cell_type": "code",
   "execution_count": 4,
   "metadata": {},
   "outputs": [],
   "source": [
    "tmp={}\n",
    "for key,val in zip(Counter(size).keys(),Counter(size).values()):\n",
    "    tmp[val]=key"
   ]
  },
  {
   "cell_type": "code",
   "execution_count": 5,
   "metadata": {
    "collapsed": true
   },
   "outputs": [
    {
     "data": {
      "text/plain": [
       "{1: (286, 286),\n",
       " 2: (232, 232),\n",
       " 3: (384, 384),\n",
       " 4: (54, 54),\n",
       " 5: (133, 134),\n",
       " 6: (501, 501),\n",
       " 7: (42, 42),\n",
       " 8: (52, 51),\n",
       " 9: (47, 47),\n",
       " 10: (435, 435),\n",
       " 11: (47, 48),\n",
       " 13: (290, 291),\n",
       " 14: (436, 436),\n",
       " 15: (254, 253),\n",
       " 16: (406, 407),\n",
       " 17: (125, 125),\n",
       " 18: (334, 334),\n",
       " 19: (134, 133),\n",
       " 20: (90, 89),\n",
       " 21: (436, 435),\n",
       " 22: (330, 329),\n",
       " 23: (58, 58),\n",
       " 24: (146, 146),\n",
       " 25: (124, 124),\n",
       " 26: (109, 108),\n",
       " 28: (77, 76),\n",
       " 29: (178, 179),\n",
       " 30: (67, 67),\n",
       " 31: (268, 267),\n",
       " 32: (58, 59),\n",
       " 33: (82, 81),\n",
       " 34: (81, 82),\n",
       " 35: (191, 191),\n",
       " 36: (177, 177),\n",
       " 38: (406, 406),\n",
       " 39: (84, 84),\n",
       " 41: (467, 467),\n",
       " 42: (153, 154),\n",
       " 44: (48, 48),\n",
       " 46: (95, 95),\n",
       " 48: (88, 87),\n",
       " 49: (205, 206),\n",
       " 51: (73, 72),\n",
       " 52: (78, 77),\n",
       " 53: (101, 100),\n",
       " 54: (68, 68),\n",
       " 55: (77, 78),\n",
       " 56: (179, 178),\n",
       " 58: (221, 221),\n",
       " 62: (155, 155),\n",
       " 63: (218, 218),\n",
       " 65: (146, 145),\n",
       " 66: (271, 271),\n",
       " 67: (76, 76),\n",
       " 68: (221, 220),\n",
       " 70: (220, 221),\n",
       " 71: (220, 220),\n",
       " 73: (307, 308),\n",
       " 76: (83, 84),\n",
       " 78: (176, 177),\n",
       " 81: (102, 102),\n",
       " 82: (191, 192),\n",
       " 84: (72, 72),\n",
       " 86: (95, 96),\n",
       " 87: (145, 146),\n",
       " 89: (127, 126),\n",
       " 90: (51, 51),\n",
       " 94: (165, 164),\n",
       " 96: (102, 103),\n",
       " 97: (379, 379),\n",
       " 98: (88, 88),\n",
       " 100: (217, 218),\n",
       " 102: (330, 330),\n",
       " 104: (103, 102),\n",
       " 108: (253, 253),\n",
       " 109: (164, 165),\n",
       " 112: (218, 217),\n",
       " 113: (78, 78),\n",
       " 114: (202, 203),\n",
       " 115: (202, 202),\n",
       " 118: (192, 191),\n",
       " 121: (155, 156),\n",
       " 128: (156, 155),\n",
       " 141: (59, 59),\n",
       " 150: (154, 153),\n",
       " 151: (308, 308),\n",
       " 153: (203, 202),\n",
       " 154: (103, 103),\n",
       " 155: (101, 101),\n",
       " 157: (83, 83),\n",
       " 158: (55, 55),\n",
       " 167: (164, 164),\n",
       " 168: (203, 203),\n",
       " 172: (116, 116),\n",
       " 174: (96, 96),\n",
       " 189: (108, 108),\n",
       " 192: (236, 236),\n",
       " 197: (267, 268),\n",
       " 205: (192, 192),\n",
       " 207: (205, 205),\n",
       " 211: (249, 250),\n",
       " 229: (156, 156),\n",
       " 234: (71, 71),\n",
       " 237: (217, 217),\n",
       " 239: (268, 268),\n",
       " 263: (94, 94),\n",
       " 278: (176, 176),\n",
       " 309: (250, 250),\n",
       " 318: (287, 287),\n",
       " 321: (167, 167),\n",
       " 336: (143, 143),\n",
       " 342: (89, 89),\n",
       " 350: (145, 145),\n",
       " 388: (135, 135),\n",
       " 416: (126, 126),\n",
       " 417: (118, 118),\n",
       " 431: (179, 179),\n",
       " 469: (110, 110),\n",
       " 502: (189, 189),\n",
       " 568: (233, 233)}"
      ]
     },
     "execution_count": 5,
     "metadata": {},
     "output_type": "execute_result"
    }
   ],
   "source": [
    "tmp"
   ]
  },
  {
   "cell_type": "markdown",
   "metadata": {},
   "source": [
    "### Привожу к одному размеру"
   ]
  },
  {
   "cell_type": "code",
   "execution_count": 2,
   "metadata": {},
   "outputs": [],
   "source": [
    "def resized(path_to_data,path_to_out,size):\n",
    "    for file in tqdm(os.listdir(path_to_data)):\n",
    "            name,ext=os.path.splitext(file)\n",
    "            if ext==\".jpg\":\n",
    "                img = Image.open(path_to_data+file)\n",
    "                img=misc.imresize(img,size)\n",
    "                misc.imsave(path_to_out+file,img)"
   ]
  },
  {
   "cell_type": "code",
   "execution_count": null,
   "metadata": {},
   "outputs": [
    {
     "data": {
      "application/vnd.jupyter.widget-view+json": {
       "model_id": "4473fc987ee9497e9fe3d63c4b06fbc2",
       "version_major": 2,
       "version_minor": 0
      },
      "text/plain": [
       "HBox(children=(IntProgress(value=0, max=81913), HTML(value='')))"
      ]
     },
     "metadata": {},
     "output_type": "display_data"
    }
   ],
   "source": [
    "size=(128,128)\n",
    "resized(PATH_TO_DATA,PATH_TO_OUT,size)"
   ]
  },
  {
   "cell_type": "markdown",
   "metadata": {},
   "source": [
    "### Преобразую картинку в массив numpy и удаляю тех людей для которых меньше n фото"
   ]
  },
  {
   "cell_type": "code",
   "execution_count": 2,
   "metadata": {},
   "outputs": [],
   "source": [
    "def image_to_array(path_to_images,path_to_labels,bad_people=[]):\n",
    "    num=sum([1 for image in os.listdir(path_to_images) if os.path.splitext(image)[1]==\".jpg\"])\n",
    "    labels=pd.read_csv(PATH_TO_LABELS)[[\"0\",\"num_image\"]].values\n",
    "    \n",
    "    \n",
    "    i=0\n",
    "    X=np.zeros(shape=(num,128,128,3),dtype=\"int32\")\n",
    "    y=np.zeros(shape=(num),dtype=object)\n",
    "    \n",
    "    for image in tqdm(os.listdir(path_to_images)):\n",
    "        name,ext=os.path.splitext(image)\n",
    "        if ext==\".jpg\":\n",
    "            img = misc.imread(path_to_images+image,flatten=False)\n",
    "            name_people=labels[labels[:,1]==int(name)][0][0]\n",
    "            if img.shape==(128, 128,3) and name_people not in bad_people:\n",
    "                X[i] = np.asarray( img, dtype=\"int32\")\n",
    "                y[i]=name_people\n",
    "                i+=1\n",
    "            else:\n",
    "                y[i]=\"NaN\"\n",
    "                i+=1\n",
    "        \n",
    "    X=X[y!='NaN']\n",
    "    y=y[y!='NaN']\n",
    "    return X,y"
   ]
  },
  {
   "cell_type": "code",
   "execution_count": 8,
   "metadata": {},
   "outputs": [],
   "source": [
    "def people_to_delete(n,y):\n",
    "    bad_people=[]\n",
    "    for key,val in zip(Counter(y).keys(),Counter(y).values()):\n",
    "        if val<=n:\n",
    "            bad_people.append(key)\n",
    "    return bad_people"
   ]
  },
  {
   "cell_type": "code",
   "execution_count": 9,
   "metadata": {},
   "outputs": [
    {
     "data": {
      "application/vnd.jupyter.widget-view+json": {
       "model_id": "b74839ed1c114d829f28748180b5b574",
       "version_major": 2,
       "version_minor": 0
      },
      "text/plain": [
       "HBox(children=(IntProgress(value=0, max=16466), HTML(value='')))"
      ]
     },
     "metadata": {},
     "output_type": "display_data"
    },
    {
     "name": "stdout",
     "output_type": "stream",
     "text": [
      "\n"
     ]
    }
   ],
   "source": [
    "X,y=image_to_array(PATH_TO_OUT,PATH_TO_LABELS)"
   ]
  },
  {
   "cell_type": "code",
   "execution_count": 10,
   "metadata": {},
   "outputs": [
    {
     "data": {
      "application/vnd.jupyter.widget-view+json": {
       "model_id": "c399d504bcf6435eb68ce44fa76a1a0b",
       "version_major": 2,
       "version_minor": 0
      },
      "text/plain": [
       "HBox(children=(IntProgress(value=0, max=16466), HTML(value='')))"
      ]
     },
     "metadata": {},
     "output_type": "display_data"
    },
    {
     "name": "stdout",
     "output_type": "stream",
     "text": [
      "\n"
     ]
    }
   ],
   "source": [
    "#Удаляю людей у которых мало фото\n",
    "bad_people=people_to_delete(3,y)\n",
    "\n",
    "X,y=image_to_array(PATH_TO_OUT,PATH_TO_LABELS,bad_people=bad_people)"
   ]
  },
  {
   "cell_type": "markdown",
   "metadata": {},
   "source": [
    "### Сохранение X и y для дальнейшего использования"
   ]
  },
  {
   "cell_type": "code",
   "execution_count": 11,
   "metadata": {},
   "outputs": [
    {
     "name": "stdout",
     "output_type": "stream",
     "text": [
      "CPU times: user 671 ms, sys: 12.1 s, total: 12.8 s\n",
      "Wall time: 56.9 s\n"
     ]
    }
   ],
   "source": [
    "%%time\n",
    "np.save(PATH_TO_ARRAY+\"X_data\",X)\n",
    "np.save(PATH_TO_ARRAY+\"y_data\",y)"
   ]
  },
  {
   "cell_type": "code",
   "execution_count": null,
   "metadata": {},
   "outputs": [],
   "source": []
  },
  {
   "cell_type": "code",
   "execution_count": null,
   "metadata": {},
   "outputs": [],
   "source": []
  }
 ],
 "metadata": {
  "kernelspec": {
   "display_name": "Python 3",
   "language": "python",
   "name": "python3"
  },
  "language_info": {
   "codemirror_mode": {
    "name": "ipython",
    "version": 3
   },
   "file_extension": ".py",
   "mimetype": "text/x-python",
   "name": "python",
   "nbconvert_exporter": "python",
   "pygments_lexer": "ipython3",
   "version": "3.6.4"
  },
  "toc": {
   "base_numbering": 1,
   "nav_menu": {},
   "number_sections": false,
   "sideBar": true,
   "skip_h1_title": false,
   "title_cell": "Table of Contents",
   "title_sidebar": "Contents",
   "toc_cell": false,
   "toc_position": {},
   "toc_section_display": true,
   "toc_window_display": false
  },
  "varInspector": {
   "cols": {
    "lenName": 16,
    "lenType": 16,
    "lenVar": 40
   },
   "kernels_config": {
    "python": {
     "delete_cmd_postfix": "",
     "delete_cmd_prefix": "del ",
     "library": "var_list.py",
     "varRefreshCmd": "print(var_dic_list())"
    },
    "r": {
     "delete_cmd_postfix": ") ",
     "delete_cmd_prefix": "rm(",
     "library": "var_list.r",
     "varRefreshCmd": "cat(var_dic_list()) "
    }
   },
   "types_to_exclude": [
    "module",
    "function",
    "builtin_function_or_method",
    "instance",
    "_Feature"
   ],
   "window_display": false
  }
 },
 "nbformat": 4,
 "nbformat_minor": 2
}
