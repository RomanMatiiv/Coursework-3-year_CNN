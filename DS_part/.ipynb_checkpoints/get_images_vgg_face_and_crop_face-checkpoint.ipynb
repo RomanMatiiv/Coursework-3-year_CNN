{
 "cells": [
  {
   "cell_type": "code",
   "execution_count": 4,
   "metadata": {},
   "outputs": [],
   "source": [
    "import os\n",
    "import pandas as pd\n",
    "from tqdm import tqdm_notebook as tqdm\n",
    "from multiprocessing import Pool\n",
    "\n",
    "import requests\n",
    "from io import open as iopen\n",
    "from urllib.parse import urlsplit\n",
    "\n",
    "import warnings\n",
    "warnings.filterwarnings('ignore')\n",
    "\n",
    "\n",
    "from PIL import Image\n",
    "import imghdr\n",
    "\n",
    "\n",
    "\n",
    "PATH_TO_DATA=\"/Volumes/HDD/Datasets/coursework/vgg_face_dataset/files/\"\n",
    "PATH_TO_DOWNLOAD=\"/Volumes/HDD/Datasets/coursework/vgg_face_dataset/images_50/\"\n",
    "OUT_FILE=\"_all_in_one_50.csv\"\n",
    "PAHT_TO_CROPED=\"/Volumes/HDD/Datasets/coursework/vgg_face_dataset/images_50_crop/\""
   ]
  },
  {
   "cell_type": "markdown",
   "metadata": {},
   "source": [
    "### Создание единого файла с сылками"
   ]
  },
  {
   "cell_type": "code",
   "execution_count": 5,
   "metadata": {},
   "outputs": [],
   "source": [
    "def accumulate_n_files_in_one(num_img_per_person,out_file_name,path_to_data):\n",
    "    '''создает один файл в котором num_img_per_person изображений для кажго человека'''\n",
    "    \n",
    "    if os.path.isfile(path_to_data+out_file_name): \n",
    "        os.remove(path_to_data+out_file_name)\n",
    "        \n",
    "    for file in tqdm(os.listdir(path_to_data)):\n",
    "        name,ext=os.path.splitext(file)\n",
    "        if ext==\".txt\":\n",
    "            tmp=pd.read_csv(path_to_data+file,sep=\" \",header=None,nrows=num_img_per_person)\n",
    "            tmp[0]=name\n",
    "            tmp.to_csv(path_to_data+out_file_name,mode=\"a\",index=False,header=False)\n",
    "            \n",
    "    df=pd.read_csv(path_to_data+out_file_name,header=None)\n",
    "    df[\"num_image\"]=df.index\n",
    "    df.to_csv(path_to_data+out_file_name,mode=\"w\",index=False)"
   ]
  },
  {
   "cell_type": "code",
   "execution_count": 6,
   "metadata": {},
   "outputs": [
    {
     "data": {
      "application/vnd.jupyter.widget-view+json": {
       "model_id": "9f742bab0a18402b8556d6ed034974ab",
       "version_major": 2,
       "version_minor": 0
      },
      "text/plain": [
       "HBox(children=(IntProgress(value=0, max=2625), HTML(value='')))"
      ]
     },
     "metadata": {},
     "output_type": "display_data"
    },
    {
     "name": "stdout",
     "output_type": "stream",
     "text": [
      "\n"
     ]
    }
   ],
   "source": [
    "accumulate_n_files_in_one(50,OUT_FILE,PATH_TO_DATA)"
   ]
  },
  {
   "cell_type": "markdown",
   "metadata": {},
   "source": [
    "### Скачивание изображений из единого файла"
   ]
  },
  {
   "cell_type": "code",
   "execution_count": 7,
   "metadata": {
    "code_folding": []
   },
   "outputs": [],
   "source": [
    "def download_image(row):\n",
    "    OUT_PATH=PATH_TO_DOWNLOAD #Хакдкод!!!!!!\n",
    "    file_url,name = row\n",
    "    try:\n",
    "        i = requests.get(file_url,timeout=0.4)\n",
    "    except requests.exceptions.RequestException as e:\n",
    "        return\n",
    "    if i.status_code == requests.codes.ok:\n",
    "        with iopen(OUT_PATH+str(name)+\".jpg\", 'wb') as file:\n",
    "            file.write(i.content)"
   ]
  },
  {
   "cell_type": "code",
   "execution_count": 8,
   "metadata": {},
   "outputs": [],
   "source": [
    "df=pd.read_csv(PATH_TO_DATA+OUT_FILE)"
   ]
  },
  {
   "cell_type": "code",
   "execution_count": 9,
   "metadata": {},
   "outputs": [],
   "source": [
    "# for row in tqdm(zip(df['1'], df['num_image'])):\n",
    "#     download_image(row)"
   ]
  },
  {
   "cell_type": "code",
   "execution_count": null,
   "metadata": {},
   "outputs": [],
   "source": [
    "with Pool() as p:\n",
    "    p.map(download_image, zip(df['1'], df['num_image']))"
   ]
  },
  {
   "cell_type": "markdown",
   "metadata": {},
   "source": [
    "<div class=\"mark\">\n",
    "### <span class=\"mark\">Обрезка фото (нужны только л</span>ица)</div><i class=\"fa fa-lightbulb-o \"></i>"
   ]
  },
  {
   "cell_type": "code",
   "execution_count": null,
   "metadata": {},
   "outputs": [],
   "source": [
    "def crop_face(path_to_labels,path_to_images,path_to_new_folder):\n",
    "    df=pd.read_csv(path_to_labels)\n",
    "    \n",
    "    for file in tqdm(os.listdir(path_to_images)):\n",
    "        name,ext=os.path.splitext(file)\n",
    "        if ext==\".jpg\":\n",
    "            \n",
    "            checker=imghdr.what(path_to_images+file)\n",
    "            if checker ==\"jpeg\":\n",
    "                img = Image.open(path_to_images+file)\n",
    "                \n",
    "                area=df[df[\"num_image\"]==int(name)][[\"2\",\"3\",\"4\",\"5\"]].values[0]\n",
    "                area = (area[0],area[1],area[2],area[3])\n",
    "                \n",
    "                cropped_img = img.crop(area)\n",
    "                cropped_img.save(path_to_new_folder+file)"
   ]
  },
  {
   "cell_type": "code",
   "execution_count": null,
   "metadata": {},
   "outputs": [],
   "source": [
    "crop_face(PATH_TO_DATA+OUT_FILE,PATH_TO_DOWNLOAD,PAHT_TO_CROPED)"
   ]
  }
 ],
 "metadata": {
  "kernelspec": {
   "display_name": "Python 3",
   "language": "python",
   "name": "python3"
  },
  "language_info": {
   "codemirror_mode": {
    "name": "ipython",
    "version": 3
   },
   "file_extension": ".py",
   "mimetype": "text/x-python",
   "name": "python",
   "nbconvert_exporter": "python",
   "pygments_lexer": "ipython3",
   "version": "3.6.4"
  },
  "toc": {
   "base_numbering": 1,
   "nav_menu": {},
   "number_sections": false,
   "sideBar": true,
   "skip_h1_title": false,
   "title_cell": "Table of Contents",
   "title_sidebar": "Contents",
   "toc_cell": false,
   "toc_position": {},
   "toc_section_display": true,
   "toc_window_display": false
  },
  "varInspector": {
   "cols": {
    "lenName": 16,
    "lenType": 16,
    "lenVar": 40
   },
   "kernels_config": {
    "python": {
     "delete_cmd_postfix": "",
     "delete_cmd_prefix": "del ",
     "library": "var_list.py",
     "varRefreshCmd": "print(var_dic_list())"
    },
    "r": {
     "delete_cmd_postfix": ") ",
     "delete_cmd_prefix": "rm(",
     "library": "var_list.r",
     "varRefreshCmd": "cat(var_dic_list()) "
    }
   },
   "oldHeight": 250,
   "position": {
    "height": "270px",
    "left": "718px",
    "right": "56px",
    "top": "120px",
    "width": "506px"
   },
   "types_to_exclude": [
    "module",
    "function",
    "builtin_function_or_method",
    "instance",
    "_Feature"
   ],
   "varInspector_section_display": "block",
   "window_display": false
  }
 },
 "nbformat": 4,
 "nbformat_minor": 2
}
