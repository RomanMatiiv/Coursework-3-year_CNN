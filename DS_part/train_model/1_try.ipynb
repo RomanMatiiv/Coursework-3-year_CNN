{
 "cells": [
  {
   "cell_type": "code",
   "execution_count": 2,
   "metadata": {
    "colab": {
     "autoexec": {
      "startup": false,
      "wait_interval": 0
     },
     "base_uri": "https://localhost:8080/",
     "height": 34
    },
    "colab_type": "code",
    "executionInfo": {
     "elapsed": 2033,
     "status": "ok",
     "timestamp": 1524400882067,
     "user": {
      "displayName": "Роман Матиив",
      "photoUrl": "https://lh3.googleusercontent.com/a/default-user=s128",
      "userId": "105811860036758856994"
     },
     "user_tz": -180
    },
    "id": "2P_sKauEd23y",
    "outputId": "7db7a167-7e63-4e9e-a12c-fbe31a2cf171"
   },
   "outputs": [
    {
     "name": "stderr",
     "output_type": "stream",
     "text": [
      "Using TensorFlow backend.\n"
     ]
    }
   ],
   "source": [
    "from keras.datasets import cifar10 # subroutines for fetching the CIFAR-10 dataset\n",
    "from keras.models import Model # basic class for specifying and training a neural network\n",
    "from keras.layers import Input, Conv2D, MaxPooling2D, Dense, Dropout, Flatten\n",
    "from keras.utils import np_utils # utilities for one-hot encoding of ground truth values\n",
    "\n",
    "import warnings\n",
    "warnings.filterwarnings('ignore')\n",
    "\n",
    "from sklearn.model_selection import train_test_split\n",
    "from sklearn.preprocessing import LabelEncoder\n",
    "import numpy as np\n",
    "import pandas as pd\n",
    "from PIL import Image\n",
    "import os\n",
    "from scipy import misc\n",
    "from  collections import Counter\n"
   ]
  },
  {
   "cell_type": "code",
   "execution_count": 0,
   "metadata": {
    "colab": {
     "autoexec": {
      "startup": false,
      "wait_interval": 0
     }
    },
    "colab_type": "code",
    "id": "wd99Jb3Jd24Q"
   },
   "outputs": [],
   "source": [
    "PATH_TO_IMAGES=\"/content/image_10_final/\"\n",
    "# PATH_TO_LABELS=\"/Volumes/HDD/Datasets/Курсач/vgg_face_dataset/files/_all_in_one_10.csv\""
   ]
  },
  {
   "cell_type": "markdown",
   "metadata": {
    "colab_type": "text",
    "id": "dhTB1pZAd24f"
   },
   "source": [
    "### Работа с данными"
   ]
  },
  {
   "cell_type": "code",
   "execution_count": 0,
   "metadata": {
    "colab": {
     "autoexec": {
      "startup": false,
      "wait_interval": 0
     }
    },
    "colab_type": "code",
    "id": "SpNePlzGd24j"
   },
   "outputs": [],
   "source": [
    "#Загрузка данных\n",
    "X=np.load(PATH_TO_IMAGES+\"X_data.npy\")\n",
    "y=np.load(PATH_TO_IMAGES+\"y_data.npy\")"
   ]
  },
  {
   "cell_type": "code",
   "execution_count": 0,
   "metadata": {
    "colab": {
     "autoexec": {
      "startup": false,
      "wait_interval": 0
     }
    },
    "colab_type": "code",
    "id": "Ty7Q0wlud24s"
   },
   "outputs": [],
   "source": [
    "#Кодирую имена числами\n",
    "la=LabelEncoder()\n",
    "y_copy=y.copy()\n",
    "y=la.fit_transform(y)"
   ]
  },
  {
   "cell_type": "code",
   "execution_count": 0,
   "metadata": {
    "colab": {
     "autoexec": {
      "startup": false,
      "wait_interval": 0
     }
    },
    "colab_type": "code",
    "id": "dEVu4lV2d240"
   },
   "outputs": [],
   "source": [
    "X_train, X_test, y_train,y_test=train_test_split(X,y,test_size=0.3,random_state=17,stratify=y)"
   ]
  },
  {
   "cell_type": "code",
   "execution_count": 0,
   "metadata": {
    "colab": {
     "autoexec": {
      "startup": false,
      "wait_interval": 0
     }
    },
    "colab_type": "code",
    "id": "umR85ClRd246"
   },
   "outputs": [],
   "source": [
    "num_train, height, width,depth = X_train.shape \n",
    "num_test = X_test.shape[0]\n",
    "num_classes = np.unique(y_train).shape[0] \n",
    "\n",
    "#new\n",
    "X_train = X_train.astype('float32') \n",
    "X_test = X_test.astype('float32')\n",
    "X_train /= np.max(X_train) # Normalise data to [0, 1] range\n",
    "X_test /= np.max(X_train) # Normalise data to [0, 1] range\n",
    "\n",
    "\n",
    "Y_train = np_utils.to_categorical(y_train, num_classes) # One-hot encode the labels\n",
    "Y_test = np_utils.to_categorical(y_test, num_classes) # One-hot encode the labels"
   ]
  },
  {
   "cell_type": "markdown",
   "metadata": {
    "colab_type": "text",
    "id": "CBt9CXopd25A"
   },
   "source": [
    "### Создание архитектуры"
   ]
  },
  {
   "cell_type": "code",
   "execution_count": 0,
   "metadata": {
    "colab": {
     "autoexec": {
      "startup": false,
      "wait_interval": 0
     }
    },
    "colab_type": "code",
    "id": "0HuvjBVJd25D"
   },
   "outputs": [],
   "source": [
    "batch_size = 32 # in each iteration, we consider 32 training examples at once\n",
    "num_epochs = 200 # we iterate 200 times over the entire training set\n",
    "kernel_size = (3,3) # we will use 3x3 kernels throughout\n",
    "pool_size = 2 # we will use 2x2 pooling throughout\n",
    "conv_depth_1 = 32 # we will initially have 32 kernels per conv. layer...\n",
    "conv_depth_2 = 64 # ...switching to 64 after the first pooling layer\n",
    "drop_prob_1 = 0.25 # dropout after pooling with probability 0.25\n",
    "drop_prob_2 = 0.5 # dropout in the FC layer with probability 0.5\n",
    "hidden_size = 512 # the FC layer will have 512 neurons"
   ]
  },
  {
   "cell_type": "code",
   "execution_count": 0,
   "metadata": {
    "colab": {
     "autoexec": {
      "startup": false,
      "wait_interval": 0
     }
    },
    "colab_type": "code",
    "id": "97HNFkGId25L"
   },
   "outputs": [],
   "source": [
    "inp = Input(shape=(height, width,depth))\n",
    "# Conv [32] -> Conv [32] -> Pool (with dropout on the pooling layer)\n",
    "conv_1 = Conv2D(conv_depth_1, kernel_size, padding='same', activation='relu')(inp)\n",
    "conv_2 = Conv2D(conv_depth_1, kernel_size,  padding='same', activation='relu')(conv_1)\n",
    "pool_1 = MaxPooling2D(pool_size=(pool_size, pool_size))(conv_2)\n",
    "drop_1 = Dropout(drop_prob_1)(pool_1)\n",
    "# Conv [64] -> Conv [64] -> Pool (with dropout on the pooling layer)\n",
    "conv_3 = Conv2D(conv_depth_2, kernel_size,  padding='same', activation='relu')(drop_1)\n",
    "conv_4 = Conv2D(conv_depth_2, kernel_size,  padding='same', activation='relu')(conv_3)\n",
    "pool_2 = MaxPooling2D(pool_size=(pool_size, pool_size))(conv_4)\n",
    "drop_2 = Dropout(drop_prob_1)(pool_2)\n",
    "# Now flatten to 1D, apply FC -> ReLU (with dropout) -> softmax\n",
    "flat = Flatten()(drop_2)\n",
    "hidden = Dense(hidden_size, activation='relu')(flat)\n",
    "drop_3 = Dropout(drop_prob_2)(hidden)\n",
    "out = Dense(num_classes, activation='softmax')(drop_3)\n",
    "\n",
    "model = Model(inputs=inp, outputs=out) # To define a model, just specify its input and output layers\n",
    "\n",
    "model.compile(loss='categorical_crossentropy', # using the cross-entropy loss function\n",
    "              optimizer='adam', # using the Adam optimiser\n",
    "              metrics=['accuracy']) # reporting the accuracy"
   ]
  },
  {
   "cell_type": "markdown",
   "metadata": {
    "colab_type": "text",
    "id": "VWm7glk2d25R"
   },
   "source": [
    "### Обучение модели"
   ]
  },
  {
   "cell_type": "code",
   "execution_count": 10,
   "metadata": {
    "colab": {
     "autoexec": {
      "startup": false,
      "wait_interval": 0
     },
     "base_uri": "https://localhost:8080/",
     "height": 6871
    },
    "colab_type": "code",
    "executionInfo": {
     "elapsed": 8935823,
     "status": "ok",
     "timestamp": 1524409843207,
     "user": {
      "displayName": "Роман Матиив",
      "photoUrl": "https://lh3.googleusercontent.com/a/default-user=s128",
      "userId": "105811860036758856994"
     },
     "user_tz": -180
    },
    "id": "pYzl4uX2d25T",
    "outputId": "a98b6f63-dec6-41ff-abae-8b5acff86008"
   },
   "outputs": [
    {
     "name": "stdout",
     "output_type": "stream",
     "text": [
      "Train on 10076 samples, validate on 1120 samples\n",
      "Epoch 1/200\n",
      "10076/10076 [==============================] - 48s 5ms/step - loss: 7.7917 - acc: 9.9246e-05 - val_loss: 7.7935 - val_acc: 0.0000e+00\n",
      "Epoch 2/200\n",
      " 5728/10076 [================>.............] - ETA: 18s - loss: 7.7775 - acc: 5.2374e-0410076/10076 [==============================] - 45s 4ms/step - loss: 7.7790 - acc: 2.9774e-04 - val_loss: 7.7990 - val_acc: 0.0000e+00\n",
      "Epoch 3/200\n",
      "10076/10076 [==============================] - 45s 4ms/step - loss: 7.7761 - acc: 9.9246e-05 - val_loss: 7.8041 - val_acc: 0.0000e+00\n",
      "Epoch 4/200\n",
      " 1184/10076 [==>...........................] - ETA: 38s - loss: 7.7713 - acc: 8.4459e-0410076/10076 [==============================] - 45s 4ms/step - loss: 7.7735 - acc: 1.9849e-04 - val_loss: 7.8090 - val_acc: 0.0000e+00\n",
      "Epoch 5/200\n",
      "10076/10076 [==============================] - 45s 4ms/step - loss: 7.7710 - acc: 4.9623e-04 - val_loss: 7.8139 - val_acc: 0.0000e+00\n",
      "Epoch 6/200\n",
      "  128/10076 [..............................] - ETA: 42s - loss: 7.7745 - acc: 0.0000e+0010076/10076 [==============================] - 45s 4ms/step - loss: 7.7688 - acc: 9.9246e-05 - val_loss: 7.8187 - val_acc: 0.0000e+00\n",
      "Epoch 7/200\n",
      " 9920/10076 [============================>.] - ETA: 0s - loss: 7.7669 - acc: 0.0000e+0010076/10076 [==============================] - 45s 4ms/step - loss: 7.7668 - acc: 0.0000e+00 - val_loss: 7.8233 - val_acc: 0.0000e+00\n",
      "Epoch 8/200\n",
      "10076/10076 [==============================] - 45s 4ms/step - loss: 7.7649 - acc: 1.9849e-04 - val_loss: 7.8278 - val_acc: 0.0000e+00\n",
      "Epoch 9/200\n",
      " 2144/10076 [=====>........................] - ETA: 34s - loss: 7.7630 - acc: 0.0000e+0010076/10076 [==============================] - 45s 4ms/step - loss: 7.7631 - acc: 9.9246e-05 - val_loss: 7.8322 - val_acc: 0.0000e+00\n",
      "Epoch 10/200\n",
      "10076/10076 [==============================] - 45s 4ms/step - loss: 7.7616 - acc: 1.9849e-04 - val_loss: 7.8363 - val_acc: 0.0000e+00\n",
      "Epoch 11/200\n",
      "  352/10076 [>.............................] - ETA: 41s - loss: 7.7629 - acc: 0.0000e+0010076/10076 [==============================] - 45s 4ms/step - loss: 7.7600 - acc: 9.9246e-05 - val_loss: 7.8405 - val_acc: 0.0000e+00\n",
      "Epoch 12/200\n",
      " 9952/10076 [============================>.] - ETA: 0s - loss: 7.7585 - acc: 3.0145e-0410076/10076 [==============================] - 45s 4ms/step - loss: 7.7587 - acc: 2.9774e-04 - val_loss: 7.8444 - val_acc: 0.0000e+00\n",
      "Epoch 13/200\n",
      "10076/10076 [==============================] - 45s 4ms/step - loss: 7.7574 - acc: 2.9774e-04 - val_loss: 7.8483 - val_acc: 0.0000e+00\n",
      "Epoch 14/200\n",
      " 2144/10076 [=====>........................] - ETA: 33s - loss: 7.7559 - acc: 0.0000e+0010076/10076 [==============================] - 45s 4ms/step - loss: 7.7562 - acc: 1.9849e-04 - val_loss: 7.8521 - val_acc: 0.0000e+00\n",
      "Epoch 15/200\n",
      "10076/10076 [==============================] - 45s 4ms/step - loss: 7.7551 - acc: 0.0000e+00 - val_loss: 7.8559 - val_acc: 0.0000e+00\n",
      "Epoch 16/200\n",
      "  320/10076 [..............................] - ETA: 42s - loss: 7.7483 - acc: 0.003110076/10076 [==============================] - 45s 4ms/step - loss: 7.7541 - acc: 4.9623e-04 - val_loss: 7.8594 - val_acc: 0.0000e+00\n",
      "Epoch 17/200\n",
      "10048/10076 [============================>.] - ETA: 0s - loss: 7.7533 - acc: 3.9809e-0410076/10076 [==============================] - 45s 4ms/step - loss: 7.7531 - acc: 3.9698e-04 - val_loss: 7.8629 - val_acc: 0.0000e+00\n",
      "Epoch 18/200\n",
      "10076/10076 [==============================] - 45s 4ms/step - loss: 7.7522 - acc: 9.9246e-05 - val_loss: 7.8664 - val_acc: 0.0000e+00\n",
      "Epoch 19/200\n",
      " 2144/10076 [=====>........................] - ETA: 34s - loss: 7.7476 - acc: 0.001410076/10076 [==============================] - 45s 4ms/step - loss: 7.7514 - acc: 4.9623e-04 - val_loss: 7.8696 - val_acc: 0.0000e+00\n",
      "Epoch 20/200\n",
      "10076/10076 [==============================] - 45s 4ms/step - loss: 7.7507 - acc: 1.9849e-04 - val_loss: 7.8729 - val_acc: 0.0000e+00\n",
      "Epoch 21/200\n",
      "  384/10076 [>.............................] - ETA: 41s - loss: 7.7328 - acc: 0.002610076/10076 [==============================] - 45s 4ms/step - loss: 7.7500 - acc: 3.9698e-04 - val_loss: 7.8759 - val_acc: 0.0000e+00\n",
      "Epoch 22/200\n",
      "10048/10076 [============================>.] - ETA: 0s - loss: 7.7494 - acc: 2.9857e-0410076/10076 [==============================] - 45s 4ms/step - loss: 7.7494 - acc: 2.9774e-04 - val_loss: 7.8790 - val_acc: 0.0000e+00\n",
      "Epoch 23/200\n",
      "10076/10076 [==============================] - 45s 4ms/step - loss: 7.7488 - acc: 3.9698e-04 - val_loss: 7.8819 - val_acc: 0.0000e+00\n",
      "Epoch 24/200\n",
      " 2144/10076 [=====>........................] - ETA: 34s - loss: 7.7451 - acc: 4.6642e-0410076/10076 [==============================] - 45s 4ms/step - loss: 7.7482 - acc: 4.9623e-04 - val_loss: 7.8848 - val_acc: 0.0000e+00\n",
      "Epoch 25/200\n",
      "10076/10076 [==============================] - 45s 4ms/step - loss: 7.7477 - acc: 2.9774e-04 - val_loss: 7.8876 - val_acc: 0.0000e+00\n",
      "Epoch 26/200\n",
      "  320/10076 [..............................] - ETA: 41s - loss: 7.7265 - acc: 0.0000e+0010076/10076 [==============================] - 45s 4ms/step - loss: 7.7472 - acc: 2.9774e-04 - val_loss: 7.8903 - val_acc: 0.0000e+00\n",
      "Epoch 27/200\n",
      " 9952/10076 [============================>.] - ETA: 0s - loss: 7.7471 - acc: 2.0096e-0410076/10076 [==============================] - 45s 4ms/step - loss: 7.7468 - acc: 1.9849e-04 - val_loss: 7.8929 - val_acc: 0.0000e+00\n",
      "Epoch 28/200\n",
      "10076/10076 [==============================] - 45s 4ms/step - loss: 7.7464 - acc: 3.9698e-04 - val_loss: 7.8954 - val_acc: 0.0000e+00\n",
      "Epoch 29/200\n",
      " 2144/10076 [=====>........................] - ETA: 34s - loss: 7.7418 - acc: 4.6642e-0410076/10076 [==============================] - 45s 4ms/step - loss: 7.7460 - acc: 1.9849e-04 - val_loss: 7.8979 - val_acc: 0.0000e+00\n",
      "Epoch 30/200\n",
      "10076/10076 [==============================] - 45s 4ms/step - loss: 7.7456 - acc: 1.9849e-04 - val_loss: 7.9002 - val_acc: 0.0000e+00\n",
      "Epoch 31/200\n",
      "  320/10076 [..............................] - ETA: 42s - loss: 7.7393 - acc: 0.0000e+0010076/10076 [==============================] - 45s 4ms/step - loss: 7.7453 - acc: 1.9849e-04 - val_loss: 7.9026 - val_acc: 0.0000e+00\n",
      "Epoch 32/200\n",
      " 9984/10076 [============================>.] - ETA: 0s - loss: 7.7450 - acc: 3.0048e-0410076/10076 [==============================] - 45s 4ms/step - loss: 7.7450 - acc: 2.9774e-04 - val_loss: 7.9048 - val_acc: 0.0000e+00\n",
      "Epoch 33/200\n",
      "10076/10076 [==============================] - 45s 4ms/step - loss: 7.7447 - acc: 1.9849e-04 - val_loss: 7.9070 - val_acc: 0.0000e+00\n",
      "Epoch 34/200\n",
      " 2144/10076 [=====>........................] - ETA: 34s - loss: 7.7413 - acc: 0.0000e+0010076/10076 [==============================] - 45s 4ms/step - loss: 7.7444 - acc: 0.0000e+00 - val_loss: 7.9091 - val_acc: 0.0000e+00\n",
      "Epoch 35/200\n",
      "10076/10076 [==============================] - 45s 4ms/step - loss: 7.7441 - acc: 9.9246e-05 - val_loss: 7.9112 - val_acc: 0.0000e+00\n",
      "Epoch 36/200\n",
      "  320/10076 [..............................] - ETA: 42s - loss: 7.7598 - acc: 0.0000e+0010076/10076 [==============================] - 45s 4ms/step - loss: 7.7440 - acc: 9.9246e-05 - val_loss: 7.9131 - val_acc: 0.0000e+00\n",
      "Epoch 37/200\n",
      " 9952/10076 [============================>.] - ETA: 0s - loss: 7.7439 - acc: 4.0193e-0410076/10076 [==============================] - 45s 4ms/step - loss: 7.7437 - acc: 3.9698e-04 - val_loss: 7.9151 - val_acc: 0.0000e+00\n",
      "Epoch 38/200\n",
      "10076/10076 [==============================] - 45s 4ms/step - loss: 7.7435 - acc: 2.9774e-04 - val_loss: 7.9171 - val_acc: 0.0000e+00\n",
      "Epoch 39/200\n",
      " 2144/10076 [=====>........................] - ETA: 34s - loss: 7.7412 - acc: 4.6642e-0410076/10076 [==============================] - 45s 4ms/step - loss: 7.7433 - acc: 1.9849e-04 - val_loss: 7.9190 - val_acc: 0.0000e+00\n",
      "Epoch 40/200\n",
      "10076/10076 [==============================] - 45s 4ms/step - loss: 7.7432 - acc: 0.0000e+00 - val_loss: 7.9207 - val_acc: 0.0000e+00\n",
      "Epoch 41/200\n",
      "  320/10076 [..............................] - ETA: 41s - loss: 7.7235 - acc: 0.0000e+0010076/10076 [==============================] - 45s 4ms/step - loss: 7.7430 - acc: 9.9246e-05 - val_loss: 7.9223 - val_acc: 0.0000e+00\n",
      "Epoch 42/200\n"
     ]
    },
    {
     "name": "stdout",
     "output_type": "stream",
     "text": [
      " 9952/10076 [============================>.] - ETA: 0s - loss: 7.7429 - acc: 3.0145e-0410076/10076 [==============================] - 45s 4ms/step - loss: 7.7429 - acc: 2.9774e-04 - val_loss: 7.9239 - val_acc: 0.0000e+00\n",
      "Epoch 43/200\n",
      "10076/10076 [==============================] - 45s 4ms/step - loss: 7.7427 - acc: 1.9849e-04 - val_loss: 7.9256 - val_acc: 0.0000e+00\n",
      "Epoch 44/200\n",
      " 2112/10076 [=====>........................] - ETA: 34s - loss: 7.7439 - acc: 0.0000e+0010076/10076 [==============================] - 45s 4ms/step - loss: 7.7426 - acc: 0.0000e+00 - val_loss: 7.9273 - val_acc: 0.0000e+00\n",
      "Epoch 45/200\n",
      "10076/10076 [==============================] - 45s 4ms/step - loss: 7.7425 - acc: 1.9849e-04 - val_loss: 7.9288 - val_acc: 0.0000e+00\n",
      "Epoch 46/200\n",
      "  320/10076 [..............................] - ETA: 42s - loss: 7.7163 - acc: 0.0000e+0010076/10076 [==============================] - 45s 4ms/step - loss: 7.7423 - acc: 1.9849e-04 - val_loss: 7.9300 - val_acc: 0.0000e+00\n",
      "Epoch 47/200\n",
      " 9952/10076 [============================>.] - ETA: 0s - loss: 7.7419 - acc: 2.0096e-0410076/10076 [==============================] - 45s 4ms/step - loss: 7.7422 - acc: 1.9849e-04 - val_loss: 7.9316 - val_acc: 0.0000e+00\n",
      "Epoch 48/200\n",
      "10076/10076 [==============================] - 45s 4ms/step - loss: 7.7422 - acc: 5.9547e-04 - val_loss: 7.9329 - val_acc: 0.0000e+00\n",
      "Epoch 49/200\n",
      " 2176/10076 [=====>........................] - ETA: 34s - loss: 7.7432 - acc: 4.5956e-0410076/10076 [==============================] - 45s 4ms/step - loss: 7.7421 - acc: 3.9698e-04 - val_loss: 7.9342 - val_acc: 0.0000e+00\n",
      "Epoch 50/200\n",
      "10076/10076 [==============================] - 45s 4ms/step - loss: 7.7420 - acc: 1.9849e-04 - val_loss: 7.9356 - val_acc: 0.0000e+00\n",
      "Epoch 51/200\n",
      "  320/10076 [..............................] - ETA: 41s - loss: 7.7330 - acc: 0.0000e+0010076/10076 [==============================] - 45s 4ms/step - loss: 7.7419 - acc: 9.9246e-05 - val_loss: 7.9368 - val_acc: 0.0000e+00\n",
      "Epoch 52/200\n",
      " 9952/10076 [============================>.] - ETA: 0s - loss: 7.7418 - acc: 1.0048e-0410076/10076 [==============================] - 45s 4ms/step - loss: 7.7419 - acc: 9.9246e-05 - val_loss: 7.9380 - val_acc: 0.0000e+00\n",
      "Epoch 53/200\n",
      "10076/10076 [==============================] - 45s 4ms/step - loss: 7.7417 - acc: 2.9774e-04 - val_loss: 7.9393 - val_acc: 0.0000e+00\n",
      "Epoch 54/200\n",
      " 2144/10076 [=====>........................] - ETA: 33s - loss: 7.7314 - acc: 9.3284e-0410076/10076 [==============================] - 45s 4ms/step - loss: 7.7417 - acc: 2.9774e-04 - val_loss: 7.9403 - val_acc: 0.0000e+00\n",
      "Epoch 55/200\n",
      "10076/10076 [==============================] - 45s 4ms/step - loss: 7.7416 - acc: 0.0000e+00 - val_loss: 7.9415 - val_acc: 0.0000e+00\n",
      "Epoch 56/200\n",
      "  320/10076 [..............................] - ETA: 41s - loss: 7.7621 - acc: 0.0000e+0010076/10076 [==============================] - 45s 4ms/step - loss: 7.7416 - acc: 9.9246e-05 - val_loss: 7.9426 - val_acc: 0.0000e+00\n",
      "Epoch 57/200\n",
      " 9952/10076 [============================>.] - ETA: 0s - loss: 7.7415 - acc: 3.0145e-0410076/10076 [==============================] - 45s 4ms/step - loss: 7.7416 - acc: 2.9774e-04 - val_loss: 7.9436 - val_acc: 0.0000e+00\n",
      "Epoch 58/200\n",
      "10076/10076 [==============================] - 45s 4ms/step - loss: 7.7415 - acc: 0.0000e+00 - val_loss: 7.9446 - val_acc: 0.0000e+00\n",
      "Epoch 59/200\n",
      " 2144/10076 [=====>........................] - ETA: 34s - loss: 7.7421 - acc: 9.3284e-0410076/10076 [==============================] - 45s 4ms/step - loss: 7.7414 - acc: 3.9698e-04 - val_loss: 7.9455 - val_acc: 0.0000e+00\n",
      "Epoch 60/200\n",
      "10076/10076 [==============================] - 45s 4ms/step - loss: 7.7414 - acc: 9.9246e-05 - val_loss: 7.9466 - val_acc: 0.0000e+00\n",
      "Epoch 61/200\n",
      "  352/10076 [>.............................] - ETA: 41s - loss: 7.7381 - acc: 0.0000e+0010076/10076 [==============================] - 45s 4ms/step - loss: 7.7414 - acc: 0.0000e+00 - val_loss: 7.9475 - val_acc: 0.0000e+00\n",
      "Epoch 62/200\n",
      "10016/10076 [============================>.] - ETA: 0s - loss: 7.7413 - acc: 3.9936e-0410076/10076 [==============================] - 45s 4ms/step - loss: 7.7413 - acc: 3.9698e-04 - val_loss: 7.9485 - val_acc: 0.0000e+00\n",
      "Epoch 63/200\n",
      "10076/10076 [==============================] - 45s 4ms/step - loss: 7.7413 - acc: 1.9849e-04 - val_loss: 7.9494 - val_acc: 0.0000e+00\n",
      "Epoch 64/200\n",
      " 2144/10076 [=====>........................] - ETA: 34s - loss: 7.7443 - acc: 4.6642e-0410076/10076 [==============================] - 45s 4ms/step - loss: 7.7413 - acc: 9.9246e-05 - val_loss: 7.9501 - val_acc: 0.0000e+00\n",
      "Epoch 65/200\n",
      "10076/10076 [==============================] - 45s 4ms/step - loss: 7.7412 - acc: 1.9849e-04 - val_loss: 7.9509 - val_acc: 0.0000e+00\n",
      "Epoch 66/200\n",
      "  320/10076 [..............................] - ETA: 41s - loss: 7.7307 - acc: 0.0000e+0010076/10076 [==============================] - 45s 4ms/step - loss: 7.7412 - acc: 0.0000e+00 - val_loss: 7.9518 - val_acc: 0.0000e+00\n",
      "Epoch 67/200\n",
      " 9952/10076 [============================>.] - ETA: 0s - loss: 7.7412 - acc: 0.0000e+0010076/10076 [==============================] - 45s 4ms/step - loss: 7.7412 - acc: 0.0000e+00 - val_loss: 7.9525 - val_acc: 0.0000e+00\n",
      "Epoch 68/200\n",
      "10076/10076 [==============================] - 45s 4ms/step - loss: 7.7412 - acc: 0.0000e+00 - val_loss: 7.9533 - val_acc: 0.0000e+00\n",
      "Epoch 69/200\n",
      " 2112/10076 [=====>........................] - ETA: 34s - loss: 7.7347 - acc: 0.0000e+0010076/10076 [==============================] - 45s 4ms/step - loss: 7.7412 - acc: 2.9774e-04 - val_loss: 7.9541 - val_acc: 0.0000e+00\n",
      "Epoch 70/200\n",
      "10076/10076 [==============================] - 45s 4ms/step - loss: 7.7411 - acc: 9.9246e-05 - val_loss: 7.9548 - val_acc: 0.0000e+00\n",
      "Epoch 71/200\n",
      "  320/10076 [..............................] - ETA: 41s - loss: 7.7370 - acc: 0.0000e+0010076/10076 [==============================] - 45s 4ms/step - loss: 7.7411 - acc: 9.9246e-05 - val_loss: 7.9555 - val_acc: 0.0000e+00\n",
      "Epoch 72/200\n",
      " 9952/10076 [============================>.] - ETA: 0s - loss: 7.7407 - acc: 2.0096e-0410076/10076 [==============================] - 45s 4ms/step - loss: 7.7411 - acc: 1.9849e-04 - val_loss: 7.9562 - val_acc: 0.0000e+00\n",
      "Epoch 73/200\n",
      "10076/10076 [==============================] - 45s 4ms/step - loss: 7.7410 - acc: 9.9246e-05 - val_loss: 7.9567 - val_acc: 0.0000e+00\n",
      "Epoch 74/200\n",
      " 2144/10076 [=====>........................] - ETA: 34s - loss: 7.7366 - acc: 4.6642e-0410076/10076 [==============================] - 45s 4ms/step - loss: 7.7410 - acc: 1.9849e-04 - val_loss: 7.9574 - val_acc: 0.0000e+00\n",
      "Epoch 75/200\n",
      "10076/10076 [==============================] - 45s 4ms/step - loss: 7.7411 - acc: 1.9849e-04 - val_loss: 7.9580 - val_acc: 0.0000e+00\n",
      "Epoch 76/200\n",
      "  320/10076 [..............................] - ETA: 41s - loss: 7.7278 - acc: 0.0000e+0010076/10076 [==============================] - 45s 4ms/step - loss: 7.7410 - acc: 1.9849e-04 - val_loss: 7.9585 - val_acc: 0.0000e+00\n",
      "Epoch 77/200\n",
      " 9952/10076 [============================>.] - ETA: 0s - loss: 7.7411 - acc: 2.0096e-0410076/10076 [==============================] - 45s 4ms/step - loss: 7.7410 - acc: 1.9849e-04 - val_loss: 7.9592 - val_acc: 0.0000e+00\n",
      "Epoch 78/200\n",
      "10076/10076 [==============================] - 45s 4ms/step - loss: 7.7410 - acc: 1.9849e-04 - val_loss: 7.9597 - val_acc: 0.0000e+00\n",
      "Epoch 79/200\n",
      " 2112/10076 [=====>........................] - ETA: 34s - loss: 7.7323 - acc: 4.7348e-0410076/10076 [==============================] - 45s 4ms/step - loss: 7.7410 - acc: 9.9246e-05 - val_loss: 7.9601 - val_acc: 0.0000e+00\n",
      "Epoch 80/200\n",
      "10076/10076 [==============================] - 45s 4ms/step - loss: 7.7410 - acc: 1.9849e-04 - val_loss: 7.9608 - val_acc: 0.0000e+00\n",
      "Epoch 81/200\n",
      "  320/10076 [..............................] - ETA: 41s - loss: 7.7387 - acc: 0.0000e+0010076/10076 [==============================] - 45s 4ms/step - loss: 7.7409 - acc: 3.9698e-04 - val_loss: 7.9613 - val_acc: 0.0000e+00\n",
      "Epoch 82/200\n",
      " 9952/10076 [============================>.] - ETA: 0s - loss: 7.7410 - acc: 1.0048e-0410076/10076 [==============================] - 45s 4ms/step - loss: 7.7409 - acc: 9.9246e-05 - val_loss: 7.9619 - val_acc: 0.0000e+00\n",
      "Epoch 83/200\n",
      "10076/10076 [==============================] - 45s 4ms/step - loss: 7.7409 - acc: 2.9774e-04 - val_loss: 7.9623 - val_acc: 0.0000e+00\n",
      "Epoch 84/200\n"
     ]
    },
    {
     "name": "stdout",
     "output_type": "stream",
     "text": [
      " 2144/10076 [=====>........................] - ETA: 33s - loss: 7.7405 - acc: 0.0000e+0010076/10076 [==============================] - 45s 4ms/step - loss: 7.7409 - acc: 2.9774e-04 - val_loss: 7.9627 - val_acc: 0.0000e+00\n",
      "Epoch 85/200\n",
      "10076/10076 [==============================] - 45s 4ms/step - loss: 7.7409 - acc: 3.9698e-04 - val_loss: 7.9632 - val_acc: 0.0000e+00\n",
      "Epoch 86/200\n",
      "  352/10076 [>.............................] - ETA: 42s - loss: 7.7529 - acc: 0.0000e+0010076/10076 [==============================] - 45s 4ms/step - loss: 7.7409 - acc: 9.9246e-05 - val_loss: 7.9637 - val_acc: 0.0000e+00\n",
      "Epoch 87/200\n",
      " 9952/10076 [============================>.] - ETA: 0s - loss: 7.7411 - acc: 1.0048e-0410076/10076 [==============================] - 45s 4ms/step - loss: 7.7409 - acc: 9.9246e-05 - val_loss: 7.9642 - val_acc: 0.0000e+00\n",
      "Epoch 88/200\n",
      "10076/10076 [==============================] - 45s 4ms/step - loss: 7.7409 - acc: 9.9246e-05 - val_loss: 7.9645 - val_acc: 0.0000e+00\n",
      "Epoch 89/200\n",
      " 2112/10076 [=====>........................] - ETA: 34s - loss: 7.7444 - acc: 4.7348e-0410076/10076 [==============================] - 45s 4ms/step - loss: 7.7409 - acc: 2.9774e-04 - val_loss: 7.9650 - val_acc: 0.0000e+00\n",
      "Epoch 90/200\n",
      "10076/10076 [==============================] - 45s 4ms/step - loss: 7.7409 - acc: 9.9246e-05 - val_loss: 7.9654 - val_acc: 0.0000e+00\n",
      "Epoch 91/200\n",
      "  320/10076 [..............................] - ETA: 41s - loss: 7.7407 - acc: 0.0000e+0010076/10076 [==============================] - 45s 4ms/step - loss: 7.7409 - acc: 0.0000e+00 - val_loss: 7.9658 - val_acc: 0.0000e+00\n",
      "Epoch 92/200\n",
      " 9952/10076 [============================>.] - ETA: 0s - loss: 7.7411 - acc: 2.0096e-0410076/10076 [==============================] - 45s 4ms/step - loss: 7.7409 - acc: 1.9849e-04 - val_loss: 7.9661 - val_acc: 0.0000e+00\n",
      "Epoch 93/200\n",
      "10076/10076 [==============================] - 45s 4ms/step - loss: 7.7409 - acc: 1.9849e-04 - val_loss: 7.9664 - val_acc: 0.0000e+00\n",
      "Epoch 94/200\n",
      " 2112/10076 [=====>........................] - ETA: 34s - loss: 7.7369 - acc: 9.4697e-0410076/10076 [==============================] - 45s 4ms/step - loss: 7.7409 - acc: 2.9774e-04 - val_loss: 7.9668 - val_acc: 0.0000e+00\n",
      "Epoch 95/200\n",
      "10076/10076 [==============================] - 45s 4ms/step - loss: 7.7409 - acc: 2.9774e-04 - val_loss: 7.9672 - val_acc: 0.0000e+00\n",
      "Epoch 96/200\n",
      "  352/10076 [>.............................] - ETA: 41s - loss: 7.7333 - acc: 0.0000e+0010076/10076 [==============================] - 45s 4ms/step - loss: 7.7409 - acc: 1.9849e-04 - val_loss: 7.9675 - val_acc: 0.0000e+00\n",
      "Epoch 97/200\n",
      " 9952/10076 [============================>.] - ETA: 0s - loss: 7.7406 - acc: 0.0000e+0010076/10076 [==============================] - 45s 4ms/step - loss: 7.7409 - acc: 0.0000e+00 - val_loss: 7.9678 - val_acc: 0.0000e+00\n",
      "Epoch 98/200\n",
      "10076/10076 [==============================] - 45s 4ms/step - loss: 7.7409 - acc: 9.9246e-05 - val_loss: 7.9682 - val_acc: 0.0000e+00\n",
      "Epoch 99/200\n",
      " 2112/10076 [=====>........................] - ETA: 34s - loss: 7.7441 - acc: 4.7348e-0410076/10076 [==============================] - 45s 4ms/step - loss: 7.7408 - acc: 9.9246e-05 - val_loss: 7.9685 - val_acc: 0.0000e+00\n",
      "Epoch 100/200\n",
      "10076/10076 [==============================] - 45s 4ms/step - loss: 7.7409 - acc: 2.9774e-04 - val_loss: 7.9689 - val_acc: 0.0000e+00\n",
      "Epoch 101/200\n",
      "  288/10076 [..............................] - ETA: 42s - loss: 7.7320 - acc: 0.0000e+0010076/10076 [==============================] - 45s 4ms/step - loss: 7.7408 - acc: 1.9849e-04 - val_loss: 7.9691 - val_acc: 0.0000e+00\n",
      "Epoch 102/200\n",
      " 9888/10076 [============================>.] - ETA: 0s - loss: 7.7406 - acc: 1.0113e-0410076/10076 [==============================] - 45s 4ms/step - loss: 7.7409 - acc: 9.9246e-05 - val_loss: 7.9694 - val_acc: 0.0000e+00\n",
      "Epoch 103/200\n",
      "10076/10076 [==============================] - 45s 4ms/step - loss: 7.7408 - acc: 9.9246e-05 - val_loss: 7.9697 - val_acc: 0.0000e+00\n",
      "Epoch 104/200\n",
      " 2080/10076 [=====>........................] - ETA: 34s - loss: 7.7374 - acc: 0.0000e+0010076/10076 [==============================] - 45s 4ms/step - loss: 7.7409 - acc: 9.9246e-05 - val_loss: 7.9699 - val_acc: 0.0000e+00\n",
      "Epoch 105/200\n",
      "10076/10076 [==============================] - 45s 4ms/step - loss: 7.7409 - acc: 1.9849e-04 - val_loss: 7.9703 - val_acc: 0.0000e+00\n",
      "Epoch 106/200\n",
      "  288/10076 [..............................] - ETA: 41s - loss: 7.7277 - acc: 0.0000e+0010076/10076 [==============================] - 45s 4ms/step - loss: 7.7409 - acc: 1.9849e-04 - val_loss: 7.9704 - val_acc: 0.0000e+00\n",
      "Epoch 107/200\n",
      " 9888/10076 [============================>.] - ETA: 0s - loss: 7.7409 - acc: 2.0227e-0410076/10076 [==============================] - 45s 4ms/step - loss: 7.7408 - acc: 1.9849e-04 - val_loss: 7.9708 - val_acc: 0.0000e+00\n",
      "Epoch 108/200\n",
      "10076/10076 [==============================] - 45s 4ms/step - loss: 7.7408 - acc: 1.9849e-04 - val_loss: 7.9708 - val_acc: 0.0000e+00\n",
      "Epoch 109/200\n",
      " 2112/10076 [=====>........................] - ETA: 34s - loss: 7.7347 - acc: 9.4697e-0410076/10076 [==============================] - 45s 4ms/step - loss: 7.7408 - acc: 2.9774e-04 - val_loss: 7.9711 - val_acc: 0.0000e+00\n",
      "Epoch 110/200\n",
      "10076/10076 [==============================] - 45s 4ms/step - loss: 7.7408 - acc: 1.9849e-04 - val_loss: 7.9716 - val_acc: 0.0000e+00\n",
      "Epoch 111/200\n",
      "  320/10076 [..............................] - ETA: 41s - loss: 7.7622 - acc: 0.0000e+0010076/10076 [==============================] - 45s 4ms/step - loss: 7.7408 - acc: 9.9246e-05 - val_loss: 7.9716 - val_acc: 0.0000e+00\n",
      "Epoch 112/200\n",
      " 9920/10076 [============================>.] - ETA: 0s - loss: 7.7413 - acc: 2.0161e-0410076/10076 [==============================] - 45s 4ms/step - loss: 7.7408 - acc: 1.9849e-04 - val_loss: 7.9717 - val_acc: 0.0000e+00\n",
      "Epoch 113/200\n",
      "10076/10076 [==============================] - 45s 4ms/step - loss: 7.7409 - acc: 1.9849e-04 - val_loss: 7.9720 - val_acc: 0.0000e+00\n",
      "Epoch 114/200\n",
      " 2080/10076 [=====>........................] - ETA: 34s - loss: 7.7393 - acc: 0.001410076/10076 [==============================] - 45s 4ms/step - loss: 7.7408 - acc: 4.9623e-04 - val_loss: 7.9722 - val_acc: 0.0000e+00\n",
      "Epoch 115/200\n",
      "10076/10076 [==============================] - 45s 4ms/step - loss: 7.7409 - acc: 9.9246e-05 - val_loss: 7.9724 - val_acc: 0.0000e+00\n",
      "Epoch 116/200\n",
      "  320/10076 [..............................] - ETA: 41s - loss: 7.7532 - acc: 0.0000e+0010076/10076 [==============================] - 45s 4ms/step - loss: 7.7409 - acc: 2.9774e-04 - val_loss: 7.9726 - val_acc: 0.0000e+00\n",
      "Epoch 117/200\n",
      " 9920/10076 [============================>.] - ETA: 0s - loss: 7.7407 - acc: 1.0081e-0410076/10076 [==============================] - 45s 4ms/step - loss: 7.7408 - acc: 9.9246e-05 - val_loss: 7.9728 - val_acc: 0.0000e+00\n",
      "Epoch 118/200\n",
      "10076/10076 [==============================] - 45s 4ms/step - loss: 7.7408 - acc: 0.0000e+00 - val_loss: 7.9730 - val_acc: 0.0000e+00\n",
      "Epoch 119/200\n",
      " 2080/10076 [=====>........................] - ETA: 34s - loss: 7.7218 - acc: 4.8077e-0410076/10076 [==============================] - 45s 4ms/step - loss: 7.7409 - acc: 9.9246e-05 - val_loss: 7.9731 - val_acc: 0.0000e+00\n",
      "Epoch 120/200\n",
      "10076/10076 [==============================] - 45s 4ms/step - loss: 7.7409 - acc: 2.9774e-04 - val_loss: 7.9733 - val_acc: 0.0000e+00\n",
      "Epoch 121/200\n",
      "  288/10076 [..............................] - ETA: 41s - loss: 7.7405 - acc: 0.0000e+0010076/10076 [==============================] - 45s 4ms/step - loss: 7.7408 - acc: 1.9849e-04 - val_loss: 7.9735 - val_acc: 0.0000e+00\n",
      "Epoch 122/200\n",
      " 9888/10076 [============================>.] - ETA: 0s - loss: 7.7410 - acc: 3.0340e-0410076/10076 [==============================] - 45s 4ms/step - loss: 7.7408 - acc: 2.9774e-04 - val_loss: 7.9736 - val_acc: 0.0000e+00\n",
      "Epoch 123/200\n",
      "10076/10076 [==============================] - 45s 4ms/step - loss: 7.7409 - acc: 1.9849e-04 - val_loss: 7.9738 - val_acc: 0.0000e+00\n",
      "Epoch 124/200\n",
      " 2080/10076 [=====>........................] - ETA: 34s - loss: 7.7294 - acc: 9.6154e-0410076/10076 [==============================] - 45s 4ms/step - loss: 7.7408 - acc: 1.9849e-04 - val_loss: 7.9740 - val_acc: 0.0000e+00\n",
      "Epoch 125/200\n",
      "10076/10076 [==============================] - 45s 4ms/step - loss: 7.7408 - acc: 1.9849e-04 - val_loss: 7.9742 - val_acc: 0.0000e+00\n",
      "Epoch 126/200\n"
     ]
    },
    {
     "name": "stdout",
     "output_type": "stream",
     "text": [
      "  288/10076 [..............................] - ETA: 41s - loss: 7.7288 - acc: 0.0000e+0010076/10076 [==============================] - 45s 4ms/step - loss: 7.7408 - acc: 1.9849e-04 - val_loss: 7.9744 - val_acc: 0.0000e+00\n",
      "Epoch 127/200\n",
      " 9888/10076 [============================>.] - ETA: 0s - loss: 7.7412 - acc: 1.0113e-0410076/10076 [==============================] - 45s 4ms/step - loss: 7.7408 - acc: 9.9246e-05 - val_loss: 7.9744 - val_acc: 0.0000e+00\n",
      "Epoch 128/200\n",
      "10076/10076 [==============================] - 45s 4ms/step - loss: 7.7408 - acc: 1.9849e-04 - val_loss: 7.9746 - val_acc: 0.0000e+00\n",
      "Epoch 129/200\n",
      " 2080/10076 [=====>........................] - ETA: 34s - loss: 7.7307 - acc: 0.0000e+0010076/10076 [==============================] - 45s 4ms/step - loss: 7.7408 - acc: 0.0000e+00 - val_loss: 7.9748 - val_acc: 0.0000e+00\n",
      "Epoch 130/200\n",
      "10076/10076 [==============================] - 45s 4ms/step - loss: 7.7408 - acc: 1.9849e-04 - val_loss: 7.9749 - val_acc: 0.0000e+00\n",
      "Epoch 131/200\n",
      "  288/10076 [..............................] - ETA: 41s - loss: 7.7054 - acc: 0.0035    10076/10076 [==============================] - 45s 4ms/step - loss: 7.7409 - acc: 1.9849e-04 - val_loss: 7.9749 - val_acc: 0.0000e+00\n",
      "Epoch 132/200\n",
      " 9920/10076 [============================>.] - ETA: 0s - loss: 7.7403 - acc: 2.0161e-0410076/10076 [==============================] - 45s 4ms/step - loss: 7.7408 - acc: 1.9849e-04 - val_loss: 7.9751 - val_acc: 0.0000e+00\n",
      "Epoch 133/200\n",
      "10076/10076 [==============================] - 45s 4ms/step - loss: 7.7408 - acc: 1.9849e-04 - val_loss: 7.9752 - val_acc: 0.0000e+00\n",
      "Epoch 134/200\n",
      " 2080/10076 [=====>........................] - ETA: 34s - loss: 7.7351 - acc: 0.0000e+0010076/10076 [==============================] - 45s 4ms/step - loss: 7.7409 - acc: 9.9246e-05 - val_loss: 7.9753 - val_acc: 0.0000e+00\n",
      "Epoch 135/200\n",
      "10076/10076 [==============================] - 45s 4ms/step - loss: 7.7408 - acc: 2.9774e-04 - val_loss: 7.9754 - val_acc: 0.0000e+00\n",
      "Epoch 136/200\n",
      "  288/10076 [..............................] - ETA: 41s - loss: 7.7322 - acc: 0.0000e+0010076/10076 [==============================] - 45s 4ms/step - loss: 7.7408 - acc: 0.0000e+00 - val_loss: 7.9755 - val_acc: 0.0000e+00\n",
      "Epoch 137/200\n",
      " 9888/10076 [============================>.] - ETA: 0s - loss: 7.7409 - acc: 0.0000e+0010076/10076 [==============================] - 45s 4ms/step - loss: 7.7408 - acc: 0.0000e+00 - val_loss: 7.9756 - val_acc: 0.0000e+00\n",
      "Epoch 138/200\n",
      "10076/10076 [==============================] - 45s 4ms/step - loss: 7.7408 - acc: 9.9246e-05 - val_loss: 7.9758 - val_acc: 0.0000e+00\n",
      "Epoch 139/200\n",
      " 2080/10076 [=====>........................] - ETA: 34s - loss: 7.7324 - acc: 4.8077e-0410076/10076 [==============================] - 45s 4ms/step - loss: 7.7408 - acc: 9.9246e-05 - val_loss: 7.9759 - val_acc: 0.0000e+00\n",
      "Epoch 140/200\n",
      "10076/10076 [==============================] - 45s 4ms/step - loss: 7.7408 - acc: 9.9246e-05 - val_loss: 7.9759 - val_acc: 0.0000e+00\n",
      "Epoch 141/200\n",
      "  288/10076 [..............................] - ETA: 41s - loss: 7.7455 - acc: 0.0000e+0010076/10076 [==============================] - 45s 4ms/step - loss: 7.7408 - acc: 2.9774e-04 - val_loss: 7.9760 - val_acc: 0.0000e+00\n",
      "Epoch 142/200\n",
      " 9888/10076 [============================>.] - ETA: 0s - loss: 7.7406 - acc: 1.0113e-0410076/10076 [==============================] - 45s 4ms/step - loss: 7.7408 - acc: 9.9246e-05 - val_loss: 7.9761 - val_acc: 0.0000e+00\n",
      "Epoch 143/200\n",
      "10076/10076 [==============================] - 45s 4ms/step - loss: 7.7408 - acc: 9.9246e-05 - val_loss: 7.9763 - val_acc: 0.0000e+00\n",
      "Epoch 144/200\n",
      " 2080/10076 [=====>........................] - ETA: 34s - loss: 7.7391 - acc: 4.8077e-0410076/10076 [==============================] - 45s 4ms/step - loss: 7.7409 - acc: 1.9849e-04 - val_loss: 7.9763 - val_acc: 0.0000e+00\n",
      "Epoch 145/200\n",
      "10076/10076 [==============================] - 45s 4ms/step - loss: 7.7408 - acc: 1.9849e-04 - val_loss: 7.9765 - val_acc: 0.0000e+00\n",
      "Epoch 146/200\n",
      "  288/10076 [..............................] - ETA: 41s - loss: 7.7106 - acc: 0.0000e+0010076/10076 [==============================] - 45s 4ms/step - loss: 7.7408 - acc: 9.9246e-05 - val_loss: 7.9766 - val_acc: 0.0000e+00\n",
      "Epoch 147/200\n",
      " 9888/10076 [============================>.] - ETA: 0s - loss: 7.7401 - acc: 0.0000e+0010076/10076 [==============================] - 45s 4ms/step - loss: 7.7408 - acc: 0.0000e+00 - val_loss: 7.9767 - val_acc: 0.0000e+00\n",
      "Epoch 148/200\n",
      "10076/10076 [==============================] - 45s 4ms/step - loss: 7.7408 - acc: 9.9246e-05 - val_loss: 7.9768 - val_acc: 0.0000e+00\n",
      "Epoch 149/200\n",
      " 2080/10076 [=====>........................] - ETA: 34s - loss: 7.7360 - acc: 0.0000e+0010076/10076 [==============================] - 45s 4ms/step - loss: 7.7409 - acc: 9.9246e-05 - val_loss: 7.9768 - val_acc: 0.0000e+00\n",
      "Epoch 150/200\n",
      "10076/10076 [==============================] - 45s 4ms/step - loss: 7.7408 - acc: 9.9246e-05 - val_loss: 7.9769 - val_acc: 0.0000e+00\n",
      "Epoch 151/200\n",
      "  288/10076 [..............................] - ETA: 42s - loss: 7.7543 - acc: 0.0000e+0010076/10076 [==============================] - 45s 4ms/step - loss: 7.7408 - acc: 0.0000e+00 - val_loss: 7.9770 - val_acc: 0.0000e+00\n",
      "Epoch 152/200\n",
      " 9888/10076 [============================>.] - ETA: 0s - loss: 7.7406 - acc: 1.0113e-0410076/10076 [==============================] - 45s 4ms/step - loss: 7.7408 - acc: 9.9246e-05 - val_loss: 7.9771 - val_acc: 0.0000e+00\n",
      "Epoch 153/200\n",
      "10076/10076 [==============================] - 45s 4ms/step - loss: 7.7408 - acc: 9.9246e-05 - val_loss: 7.9771 - val_acc: 0.0000e+00\n",
      "Epoch 154/200\n",
      " 2080/10076 [=====>........................] - ETA: 34s - loss: 7.7327 - acc: 0.0000e+0010076/10076 [==============================] - 45s 4ms/step - loss: 7.7408 - acc: 2.9774e-04 - val_loss: 7.9772 - val_acc: 0.0000e+00\n",
      "Epoch 155/200\n",
      "10076/10076 [==============================] - 45s 4ms/step - loss: 7.7408 - acc: 1.9849e-04 - val_loss: 7.9773 - val_acc: 0.0000e+00\n",
      "Epoch 156/200\n",
      "  288/10076 [..............................] - ETA: 42s - loss: 7.7444 - acc: 0.0000e+0010076/10076 [==============================] - 45s 4ms/step - loss: 7.7408 - acc: 1.9849e-04 - val_loss: 7.9774 - val_acc: 0.0000e+00\n",
      "Epoch 157/200\n",
      " 9920/10076 [============================>.] - ETA: 0s - loss: 7.7405 - acc: 3.0242e-0410076/10076 [==============================] - 45s 4ms/step - loss: 7.7408 - acc: 2.9774e-04 - val_loss: 7.9775 - val_acc: 0.0000e+00\n",
      "Epoch 158/200\n",
      "10076/10076 [==============================] - 45s 4ms/step - loss: 7.7408 - acc: 0.0000e+00 - val_loss: 7.9775 - val_acc: 0.0000e+00\n",
      "Epoch 159/200\n",
      " 2080/10076 [=====>........................] - ETA: 34s - loss: 7.7355 - acc: 4.8077e-0410076/10076 [==============================] - 45s 4ms/step - loss: 7.7408 - acc: 1.9849e-04 - val_loss: 7.9776 - val_acc: 0.0000e+00\n",
      "Epoch 160/200\n",
      "10076/10076 [==============================] - 45s 4ms/step - loss: 7.7408 - acc: 9.9246e-05 - val_loss: 7.9777 - val_acc: 0.0000e+00\n",
      "Epoch 161/200\n",
      "  288/10076 [..............................] - ETA: 42s - loss: 7.7333 - acc: 0.0000e+0010076/10076 [==============================] - 45s 4ms/step - loss: 7.7408 - acc: 9.9246e-05 - val_loss: 7.9777 - val_acc: 0.0000e+00\n",
      "Epoch 162/200\n",
      " 9888/10076 [============================>.] - ETA: 0s - loss: 7.7410 - acc: 1.0113e-0410076/10076 [==============================] - 45s 4ms/step - loss: 7.7408 - acc: 9.9246e-05 - val_loss: 7.9778 - val_acc: 0.0000e+00\n",
      "Epoch 163/200\n",
      "10076/10076 [==============================] - 45s 4ms/step - loss: 7.7408 - acc: 1.9849e-04 - val_loss: 7.9778 - val_acc: 0.0000e+00\n",
      "Epoch 164/200\n",
      " 2080/10076 [=====>........................] - ETA: 34s - loss: 7.7389 - acc: 4.8077e-0410076/10076 [==============================] - 45s 4ms/step - loss: 7.7408 - acc: 1.9849e-04 - val_loss: 7.9779 - val_acc: 0.0000e+00\n",
      "Epoch 165/200\n",
      "10076/10076 [==============================] - 45s 4ms/step - loss: 7.7408 - acc: 2.9774e-04 - val_loss: 7.9779 - val_acc: 0.0000e+00\n",
      "Epoch 166/200\n",
      "  288/10076 [..............................] - ETA: 42s - loss: 7.7454 - acc: 0.0000e+0010076/10076 [==============================] - 45s 4ms/step - loss: 7.7408 - acc: 9.9246e-05 - val_loss: 7.9779 - val_acc: 0.0000e+00\n",
      "Epoch 167/200\n"
     ]
    },
    {
     "name": "stdout",
     "output_type": "stream",
     "text": [
      " 9920/10076 [============================>.] - ETA: 0s - loss: 7.7408 - acc: 4.0323e-0410076/10076 [==============================] - 45s 4ms/step - loss: 7.7408 - acc: 3.9698e-04 - val_loss: 7.9780 - val_acc: 0.0000e+00\n",
      "Epoch 168/200\n",
      "10076/10076 [==============================] - 45s 4ms/step - loss: 7.7408 - acc: 1.9849e-04 - val_loss: 7.9781 - val_acc: 0.0000e+00\n",
      "Epoch 169/200\n",
      " 2080/10076 [=====>........................] - ETA: 34s - loss: 7.7334 - acc: 4.8077e-0410076/10076 [==============================] - 45s 4ms/step - loss: 7.7408 - acc: 2.9774e-04 - val_loss: 7.9782 - val_acc: 0.0000e+00\n",
      "Epoch 170/200\n",
      "10076/10076 [==============================] - 45s 4ms/step - loss: 7.7408 - acc: 2.9774e-04 - val_loss: 7.9782 - val_acc: 0.0000e+00\n",
      "Epoch 171/200\n",
      "  288/10076 [..............................] - ETA: 41s - loss: 7.7223 - acc: 0.0000e+0010076/10076 [==============================] - 45s 4ms/step - loss: 7.7408 - acc: 2.9774e-04 - val_loss: 7.9782 - val_acc: 0.0000e+00\n",
      "Epoch 172/200\n",
      " 9888/10076 [============================>.] - ETA: 0s - loss: 7.7408 - acc: 2.0227e-0410076/10076 [==============================] - 45s 4ms/step - loss: 7.7408 - acc: 1.9849e-04 - val_loss: 7.9782 - val_acc: 0.0000e+00\n",
      "Epoch 173/200\n",
      "10076/10076 [==============================] - 45s 4ms/step - loss: 7.7408 - acc: 3.9698e-04 - val_loss: 7.9784 - val_acc: 0.0000e+00\n",
      "Epoch 174/200\n",
      " 2112/10076 [=====>........................] - ETA: 34s - loss: 7.7396 - acc: 0.0000e+0010076/10076 [==============================] - 45s 4ms/step - loss: 7.7408 - acc: 9.9246e-05 - val_loss: 7.9783 - val_acc: 0.0000e+00\n",
      "Epoch 175/200\n",
      "10076/10076 [==============================] - 45s 4ms/step - loss: 7.7408 - acc: 3.9698e-04 - val_loss: 7.9784 - val_acc: 0.0000e+00\n",
      "Epoch 176/200\n",
      "  320/10076 [..............................] - ETA: 41s - loss: 7.7283 - acc: 0.0000e+0010076/10076 [==============================] - 45s 4ms/step - loss: 7.7408 - acc: 9.9246e-05 - val_loss: 7.9785 - val_acc: 0.0000e+00\n",
      "Epoch 177/200\n",
      " 9920/10076 [============================>.] - ETA: 0s - loss: 7.7404 - acc: 0.0000e+0010076/10076 [==============================] - 45s 4ms/step - loss: 7.7408 - acc: 0.0000e+00 - val_loss: 7.9786 - val_acc: 0.0000e+00\n",
      "Epoch 178/200\n",
      "10076/10076 [==============================] - 45s 4ms/step - loss: 7.7408 - acc: 9.9246e-05 - val_loss: 7.9786 - val_acc: 0.0000e+00\n",
      "Epoch 179/200\n",
      " 2080/10076 [=====>........................] - ETA: 34s - loss: 7.7334 - acc: 4.8077e-0410076/10076 [==============================] - 45s 4ms/step - loss: 7.7408 - acc: 9.9246e-05 - val_loss: 7.9786 - val_acc: 0.0000e+00\n",
      "Epoch 180/200\n",
      "10076/10076 [==============================] - 45s 4ms/step - loss: 7.7408 - acc: 1.9849e-04 - val_loss: 7.9787 - val_acc: 0.0000e+00\n",
      "Epoch 181/200\n",
      "  288/10076 [..............................] - ETA: 41s - loss: 7.7411 - acc: 0.0000e+0010076/10076 [==============================] - 45s 4ms/step - loss: 7.7408 - acc: 1.9849e-04 - val_loss: 7.9787 - val_acc: 0.0000e+00\n",
      "Epoch 182/200\n",
      " 9888/10076 [============================>.] - ETA: 0s - loss: 7.7407 - acc: 2.0227e-0410076/10076 [==============================] - 45s 4ms/step - loss: 7.7408 - acc: 1.9849e-04 - val_loss: 7.9786 - val_acc: 0.0000e+00\n",
      "Epoch 183/200\n",
      "10076/10076 [==============================] - 45s 4ms/step - loss: 7.7408 - acc: 2.9774e-04 - val_loss: 7.9787 - val_acc: 0.0000e+00\n",
      "Epoch 184/200\n",
      " 2080/10076 [=====>........................] - ETA: 34s - loss: 7.7471 - acc: 4.8077e-0410076/10076 [==============================] - 45s 4ms/step - loss: 7.7408 - acc: 2.9774e-04 - val_loss: 7.9786 - val_acc: 0.0000e+00\n",
      "Epoch 185/200\n",
      "10076/10076 [==============================] - 45s 4ms/step - loss: 7.7409 - acc: 1.9849e-04 - val_loss: 7.9787 - val_acc: 0.0000e+00\n",
      "Epoch 186/200\n",
      "  320/10076 [..............................] - ETA: 41s - loss: 7.7052 - acc: 0.003110076/10076 [==============================] - 45s 4ms/step - loss: 7.7408 - acc: 2.9774e-04 - val_loss: 7.9788 - val_acc: 0.0000e+00\n",
      "Epoch 187/200\n",
      " 9952/10076 [============================>.] - ETA: 0s - loss: 7.7408 - acc: 1.0048e-0410076/10076 [==============================] - 45s 4ms/step - loss: 7.7408 - acc: 9.9246e-05 - val_loss: 7.9789 - val_acc: 0.0000e+00\n",
      "Epoch 188/200\n",
      "10076/10076 [==============================] - 45s 4ms/step - loss: 7.7409 - acc: 2.9774e-04 - val_loss: 7.9789 - val_acc: 0.0000e+00\n",
      "Epoch 189/200\n",
      " 2080/10076 [=====>........................] - ETA: 34s - loss: 7.7402 - acc: 0.0000e+0010076/10076 [==============================] - 45s 4ms/step - loss: 7.7409 - acc: 9.9246e-05 - val_loss: 7.9789 - val_acc: 0.0000e+00\n",
      "Epoch 190/200\n",
      "10076/10076 [==============================] - 45s 4ms/step - loss: 7.7408 - acc: 1.9849e-04 - val_loss: 7.9789 - val_acc: 0.0000e+00\n",
      "Epoch 191/200\n",
      "  288/10076 [..............................] - ETA: 42s - loss: 7.7392 - acc: 0.0000e+0010076/10076 [==============================] - 45s 4ms/step - loss: 7.7408 - acc: 9.9246e-05 - val_loss: 7.9789 - val_acc: 0.0000e+00\n",
      "Epoch 192/200\n",
      " 9888/10076 [============================>.] - ETA: 0s - loss: 7.7405 - acc: 2.0227e-0410076/10076 [==============================] - 45s 4ms/step - loss: 7.7408 - acc: 1.9849e-04 - val_loss: 7.9790 - val_acc: 0.0000e+00\n",
      "Epoch 193/200\n",
      "10076/10076 [==============================] - 45s 4ms/step - loss: 7.7409 - acc: 1.9849e-04 - val_loss: 7.9790 - val_acc: 0.0000e+00\n",
      "Epoch 194/200\n",
      " 2080/10076 [=====>........................] - ETA: 34s - loss: 7.7355 - acc: 4.8077e-0410076/10076 [==============================] - 45s 4ms/step - loss: 7.7408 - acc: 9.9246e-05 - val_loss: 7.9791 - val_acc: 0.0000e+00\n",
      "Epoch 195/200\n",
      "10076/10076 [==============================] - 45s 4ms/step - loss: 7.7408 - acc: 9.9246e-05 - val_loss: 7.9791 - val_acc: 0.0000e+00\n",
      "Epoch 196/200\n",
      "  288/10076 [..............................] - ETA: 41s - loss: 7.7461 - acc: 0.003510076/10076 [==============================] - 45s 4ms/step - loss: 7.7408 - acc: 1.9849e-04 - val_loss: 7.9792 - val_acc: 0.0000e+00\n",
      "Epoch 197/200\n",
      " 9920/10076 [============================>.] - ETA: 0s - loss: 7.7407 - acc: 0.0000e+0010076/10076 [==============================] - 45s 4ms/step - loss: 7.7408 - acc: 0.0000e+00 - val_loss: 7.9792 - val_acc: 0.0000e+00\n",
      "Epoch 198/200\n",
      "10076/10076 [==============================] - 45s 4ms/step - loss: 7.7408 - acc: 1.9849e-04 - val_loss: 7.9792 - val_acc: 0.0000e+00\n",
      "Epoch 199/200\n",
      " 2080/10076 [=====>........................] - ETA: 34s - loss: 7.7364 - acc: 4.8077e-0410076/10076 [==============================] - 45s 4ms/step - loss: 7.7408 - acc: 1.9849e-04 - val_loss: 7.9792 - val_acc: 0.0000e+00\n",
      "Epoch 200/200\n",
      "10076/10076 [==============================] - 45s 4ms/step - loss: 7.7409 - acc: 1.9849e-04 - val_loss: 7.9792 - val_acc: 0.0000e+00\n"
     ]
    },
    {
     "data": {
      "text/plain": [
       "<keras.callbacks.History at 0x7feeeec62278>"
      ]
     },
     "execution_count": 10,
     "metadata": {
      "tags": []
     },
     "output_type": "execute_result"
    }
   ],
   "source": [
    "model.fit(X_train, Y_train, # Train the model using the training set...\n",
    "          batch_size=batch_size, nb_epoch=num_epochs,\n",
    "          verbose=1, validation_split=0.1) # ...holding out 10% of the data for validation\n"
   ]
  },
  {
   "cell_type": "markdown",
   "metadata": {
    "colab_type": "text",
    "id": "WaBvRwJYd25e"
   },
   "source": [
    "### Проверка качества модели"
   ]
  },
  {
   "cell_type": "code",
   "execution_count": 11,
   "metadata": {
    "colab": {
     "autoexec": {
      "startup": false,
      "wait_interval": 0
     },
     "base_uri": "https://localhost:8080/",
     "height": 51
    },
    "colab_type": "code",
    "executionInfo": {
     "elapsed": 6786,
     "status": "ok",
     "timestamp": 1524410790929,
     "user": {
      "displayName": "Роман Матиив",
      "photoUrl": "https://lh3.googleusercontent.com/a/default-user=s128",
      "userId": "105811860036758856994"
     },
     "user_tz": -180
    },
    "id": "1UQOG04lIvDp",
    "outputId": "1f532db1-8534-4ae3-f398-6bf46cb1e47a"
   },
   "outputs": [
    {
     "name": "stdout",
     "output_type": "stream",
     "text": [
      "4799/4799 [==============================] - 6s 1ms/step\n"
     ]
    },
    {
     "data": {
      "text/plain": [
       "[7.782045051986462, 0.000625130235465722]"
      ]
     },
     "execution_count": 11,
     "metadata": {
      "tags": []
     },
     "output_type": "execute_result"
    }
   ],
   "source": [
    "model.evaluate(X_test, Y_test, verbose=1) # Evaluate the trained model on the test set!"
   ]
  }
 ],
 "metadata": {
  "accelerator": "GPU",
  "colab": {
   "default_view": {},
   "name": "First_try.ipynb",
   "provenance": [],
   "version": "0.3.2",
   "views": {}
  },
  "kernelspec": {
   "display_name": "Python 3",
   "language": "python",
   "name": "python3"
  },
  "language_info": {
   "codemirror_mode": {
    "name": "ipython",
    "version": 3
   },
   "file_extension": ".py",
   "mimetype": "text/x-python",
   "name": "python",
   "nbconvert_exporter": "python",
   "pygments_lexer": "ipython3",
   "version": "3.6.4"
  },
  "varInspector": {
   "cols": {
    "lenName": 16,
    "lenType": 16,
    "lenVar": 40
   },
   "kernels_config": {
    "python": {
     "delete_cmd_postfix": "",
     "delete_cmd_prefix": "del ",
     "library": "var_list.py",
     "varRefreshCmd": "print(var_dic_list())"
    },
    "r": {
     "delete_cmd_postfix": ") ",
     "delete_cmd_prefix": "rm(",
     "library": "var_list.r",
     "varRefreshCmd": "cat(var_dic_list()) "
    }
   },
   "types_to_exclude": [
    "module",
    "function",
    "builtin_function_or_method",
    "instance",
    "_Feature"
   ],
   "window_display": false
  }
 },
 "nbformat": 4,
 "nbformat_minor": 1
}
