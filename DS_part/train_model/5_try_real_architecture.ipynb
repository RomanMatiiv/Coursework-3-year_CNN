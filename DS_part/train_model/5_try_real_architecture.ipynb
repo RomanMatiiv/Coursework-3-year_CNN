{
 "cells": [
  {
   "cell_type": "code",
   "execution_count": 2,
   "metadata": {
    "colab": {
     "autoexec": {
      "startup": false,
      "wait_interval": 0
     },
     "base_uri": "https://localhost:8080/",
     "height": 34
    },
    "colab_type": "code",
    "executionInfo": {
     "elapsed": 2033,
     "status": "ok",
     "timestamp": 1524400882067,
     "user": {
      "displayName": "Роман Матиив",
      "photoUrl": "https://lh3.googleusercontent.com/a/default-user=s128",
      "userId": "105811860036758856994"
     },
     "user_tz": -180
    },
    "id": "2P_sKauEd23y",
    "outputId": "7db7a167-7e63-4e9e-a12c-fbe31a2cf171"
   },
   "outputs": [],
   "source": [
    "from keras.datasets import cifar10 # subroutines for fetching the CIFAR-10 dataset\n",
    "from keras.models import Model # basic class for specifying and training a neural network\n",
    "# from keras.layers import Input, Conv2D, MaxPooling2D, Dense, Dropout, Flatten,BatchNormalization\n",
    "from keras.layers import Input, Conv2D, ZeroPadding2D, MaxPooling2D, Flatten, Dense, Dropout\n",
    "from keras.utils import np_utils # utilities for one-hot encoding of ground truth values\n",
    "from keras.callbacks import EarlyStopping\n",
    "\n",
    "# import warnings\n",
    "# warnings.filterwarnings('ignore')\n",
    "\n",
    "from sklearn.model_selection import train_test_split\n",
    "from sklearn.preprocessing import LabelEncoder\n",
    "import numpy as np\n",
    "import pandas as pd\n",
    "from PIL import Image\n",
    "import os\n",
    "from scipy import misc\n",
    "from  collections import Counter\n"
   ]
  },
  {
   "cell_type": "code",
   "execution_count": 3,
   "metadata": {
    "colab": {
     "autoexec": {
      "startup": false,
      "wait_interval": 0
     }
    },
    "colab_type": "code",
    "id": "wd99Jb3Jd24Q"
   },
   "outputs": [],
   "source": [
    "PATH_TO_IMAGES=\"/home/roman/DS_part/image_50_array/\""
   ]
  },
  {
   "cell_type": "markdown",
   "metadata": {
    "colab_type": "text",
    "id": "dhTB1pZAd24f"
   },
   "source": [
    "### Работа с данными"
   ]
  },
  {
   "cell_type": "code",
   "execution_count": 4,
   "metadata": {
    "colab": {
     "autoexec": {
      "startup": false,
      "wait_interval": 0
     }
    },
    "colab_type": "code",
    "id": "SpNePlzGd24j"
   },
   "outputs": [],
   "source": [
    "#Загрузка данных\n",
    "X=np.load(PATH_TO_IMAGES+\"X_data.npy\")\n",
    "y=np.load(PATH_TO_IMAGES+\"y_data.npy\")"
   ]
  },
  {
   "cell_type": "code",
   "execution_count": 5,
   "metadata": {
    "colab": {
     "autoexec": {
      "startup": false,
      "wait_interval": 0
     }
    },
    "colab_type": "code",
    "id": "Ty7Q0wlud24s"
   },
   "outputs": [],
   "source": [
    "#Кодирую имена числами\n",
    "la=LabelEncoder()\n",
    "y_copy=y.copy()\n",
    "y=la.fit_transform(y)"
   ]
  },
  {
   "cell_type": "code",
   "execution_count": 6,
   "metadata": {
    "colab": {
     "autoexec": {
      "startup": false,
      "wait_interval": 0
     }
    },
    "colab_type": "code",
    "id": "dEVu4lV2d240"
   },
   "outputs": [],
   "source": [
    "X_train, X_test, y_train,y_test=train_test_split(X,y,test_size=0.3,random_state=17,stratify=y)"
   ]
  },
  {
   "cell_type": "code",
   "execution_count": 7,
   "metadata": {
    "colab": {
     "autoexec": {
      "startup": false,
      "wait_interval": 0
     }
    },
    "colab_type": "code",
    "id": "umR85ClRd246"
   },
   "outputs": [],
   "source": [
    "num_train, height, width,depth = X_train.shape \n",
    "num_test = X_test.shape[0]\n",
    "num_classes = np.unique(y_train).shape[0] \n",
    "\n",
    "#new\n",
    "X_train =X_train/255 # Normalise data to [0, 1] range\n",
    "X_test =X_test/255 # Normalise data to [0, 1] range\n",
    "\n",
    "\n",
    "Y_train = np_utils.to_categorical(y_train, num_classes) # One-hot encode the labels\n",
    "Y_test = np_utils.to_categorical(y_test, num_classes) # One-hot encode the labels"
   ]
  },
  {
   "cell_type": "code",
   "execution_count": 10,
   "metadata": {},
   "outputs": [],
   "source": [
    "batch_size = 32 # in each iteration, we consider 32 training examples at once\n",
    "num_epochs = 30 # we iterate 30 times over the entire training set\n",
    "kernel_size = (3,3) # we will use 3x3 kernels throughout\n",
    "pool_size = 2 # we will use 2x2 pooling throughout\n",
    "conv_depth_1 = 32 # we will initially have 32 kernels per conv. layer...\n",
    "conv_depth_2 = 64 # ...switching to 64 after the first pooling layer\n",
    "drop_prob_1 = 0.25 # dropout after pooling with probability 0.25\n",
    "drop_prob_2 = 0.5 # dropout in the FC layer with probability 0.5\n",
    "hidden_size = 512 # the FC layer will have 512 neurons"
   ]
  },
  {
   "cell_type": "markdown",
   "metadata": {},
   "source": [
    "### VGG architecture"
   ]
  },
  {
   "cell_type": "code",
   "execution_count": 14,
   "metadata": {},
   "outputs": [
    {
     "name": "stderr",
     "output_type": "stream",
     "text": [
      "/home/roman/anaconda3/lib/python3.6/site-packages/ipykernel_launcher.py:4: UserWarning: Update your `Conv2D` call to the Keras 2 API: `Conv2D(64, (3, 3), activation=\"relu\", name=\"conv1_1\")`\n",
      "  after removing the cwd from sys.path.\n",
      "/home/roman/anaconda3/lib/python3.6/site-packages/ipykernel_launcher.py:6: UserWarning: Update your `Conv2D` call to the Keras 2 API: `Conv2D(64, (3, 3), activation=\"relu\", name=\"conv1_2\")`\n",
      "  \n",
      "/home/roman/anaconda3/lib/python3.6/site-packages/ipykernel_launcher.py:10: UserWarning: Update your `Conv2D` call to the Keras 2 API: `Conv2D(128, (3, 3), activation=\"relu\", name=\"conv2_1\")`\n",
      "  # Remove the CWD from sys.path while we load stuff.\n",
      "/home/roman/anaconda3/lib/python3.6/site-packages/ipykernel_launcher.py:12: UserWarning: Update your `Conv2D` call to the Keras 2 API: `Conv2D(128, (3, 3), activation=\"relu\", name=\"conv2_2\")`\n",
      "  if sys.path[0] == '':\n",
      "/home/roman/anaconda3/lib/python3.6/site-packages/ipykernel_launcher.py:16: UserWarning: Update your `Conv2D` call to the Keras 2 API: `Conv2D(256, (3, 3), activation=\"relu\", name=\"conv3_1\")`\n",
      "  app.launch_new_instance()\n",
      "/home/roman/anaconda3/lib/python3.6/site-packages/ipykernel_launcher.py:18: UserWarning: Update your `Conv2D` call to the Keras 2 API: `Conv2D(256, (3, 3), activation=\"relu\", name=\"conv3_2\")`\n",
      "/home/roman/anaconda3/lib/python3.6/site-packages/ipykernel_launcher.py:20: UserWarning: Update your `Conv2D` call to the Keras 2 API: `Conv2D(256, (3, 3), activation=\"relu\", name=\"conv3_3\")`\n",
      "/home/roman/anaconda3/lib/python3.6/site-packages/ipykernel_launcher.py:24: UserWarning: Update your `Conv2D` call to the Keras 2 API: `Conv2D(512, (3, 3), activation=\"relu\", name=\"conv4_1\")`\n",
      "/home/roman/anaconda3/lib/python3.6/site-packages/ipykernel_launcher.py:26: UserWarning: Update your `Conv2D` call to the Keras 2 API: `Conv2D(512, (3, 3), activation=\"relu\", name=\"conv4_2\")`\n",
      "/home/roman/anaconda3/lib/python3.6/site-packages/ipykernel_launcher.py:28: UserWarning: Update your `Conv2D` call to the Keras 2 API: `Conv2D(512, (3, 3), activation=\"relu\", name=\"conv4_3\")`\n",
      "/home/roman/anaconda3/lib/python3.6/site-packages/ipykernel_launcher.py:32: UserWarning: Update your `Conv2D` call to the Keras 2 API: `Conv2D(512, (3, 3), activation=\"relu\", name=\"conv5_1\")`\n",
      "/home/roman/anaconda3/lib/python3.6/site-packages/ipykernel_launcher.py:34: UserWarning: Update your `Conv2D` call to the Keras 2 API: `Conv2D(512, (3, 3), activation=\"relu\", name=\"conv5_2\")`\n",
      "/home/roman/anaconda3/lib/python3.6/site-packages/ipykernel_launcher.py:36: UserWarning: Update your `Conv2D` call to the Keras 2 API: `Conv2D(512, (3, 3), activation=\"relu\", name=\"conv5_3\")`\n"
     ]
    },
    {
     "name": "stdout",
     "output_type": "stream",
     "text": [
      "Train on 49197 samples, validate on 5467 samples\n",
      "Epoch 1/30\n",
      " - 1223s - loss: 7.8693 - acc: 1.6261e-04 - val_loss: 7.8700 - val_acc: 1.8292e-04\n",
      "Epoch 2/30\n",
      " - 1211s - loss: 7.8599 - acc: 4.4718e-04 - val_loss: 7.8718 - val_acc: 3.6583e-04\n",
      "23428/23428 [==============================] - 160s 7ms/step\n"
     ]
    },
    {
     "data": {
      "text/plain": [
       "[7.855263242710159, 0.000597575550623186]"
      ]
     },
     "execution_count": 14,
     "metadata": {},
     "output_type": "execute_result"
    }
   ],
   "source": [
    "inp = Input(shape=(128, 128,3))\n",
    "\n",
    "pad1_1 = ZeroPadding2D(padding=(1, 1))(inp)\n",
    "conv1_1 = Conv2D(64, 3, 3, activation='relu', name='conv1_1')(pad1_1)\n",
    "pad1_2 = ZeroPadding2D(padding=(1, 1))(conv1_1)\n",
    "conv1_2 = Conv2D(64, 3, 3, activation='relu', name='conv1_2')(pad1_2)\n",
    "pool1 = MaxPooling2D((2, 2), strides=(2, 2))(conv1_2)\n",
    "\n",
    "pad2_1 = ZeroPadding2D((1, 1))(pool1)\n",
    "conv2_1 = Conv2D(128, 3, 3, activation='relu', name='conv2_1')(pad2_1)\n",
    "pad2_2 = ZeroPadding2D((1, 1))(conv2_1)\n",
    "conv2_2 = Conv2D(128, 3, 3, activation='relu', name='conv2_2')(pad2_2)\n",
    "pool2 = MaxPooling2D((2, 2), strides=(2, 2))(conv2_2)\n",
    "\n",
    "pad3_1 = ZeroPadding2D((1, 1))(pool2)\n",
    "conv3_1 = Conv2D(256, 3, 3, activation='relu', name='conv3_1')(pad3_1)\n",
    "pad3_2 = ZeroPadding2D((1, 1))(conv3_1)\n",
    "conv3_2 = Conv2D(256, 3, 3, activation='relu', name='conv3_2')(pad3_2)\n",
    "pad3_3 = ZeroPadding2D((1, 1))(conv3_2)\n",
    "conv3_3 = Conv2D(256, 3, 3, activation='relu', name='conv3_3')(pad3_3)\n",
    "pool3 = MaxPooling2D((2, 2), strides=(2, 2))(conv3_3)\n",
    "\n",
    "pad4_1 = ZeroPadding2D((1, 1))(pool3)\n",
    "conv4_1 = Conv2D(512, 3, 3, activation='relu', name='conv4_1')(pad4_1)\n",
    "pad4_2 = ZeroPadding2D((1, 1))(conv4_1)\n",
    "conv4_2 = Conv2D(512, 3, 3, activation='relu', name='conv4_2')(pad4_2)\n",
    "pad4_3 = ZeroPadding2D((1, 1))(conv4_2)\n",
    "conv4_3 = Conv2D(512, 3, 3, activation='relu', name='conv4_3')(pad4_3)\n",
    "pool4 = MaxPooling2D((2, 2), strides=(2, 2))(conv4_3)\n",
    "\n",
    "pad5_1 = ZeroPadding2D((1, 1))(pool4)\n",
    "conv5_1 = Conv2D(512, 3, 3, activation='relu', name='conv5_1')(pad5_1)\n",
    "pad5_2 = ZeroPadding2D((1, 1))(conv5_1)\n",
    "conv5_2 = Conv2D(512, 3, 3, activation='relu', name='conv5_2')(pad5_2)\n",
    "pad5_3 = ZeroPadding2D((1, 1))(conv5_2)\n",
    "conv5_3 = Conv2D(512, 3, 3, activation='relu', name='conv5_3')(pad5_3)\n",
    "pool5 = MaxPooling2D((2, 2), strides=(2, 2))(conv5_3)\n",
    "\n",
    "flat = Flatten()(pool5)\n",
    "fc6 = Dense(4096, activation='relu', name='fc6')(flat)\n",
    "fc6_drop = Dropout(0.5)(fc6)\n",
    "fc7 = Dense(4096, activation='relu', name='fc7')(fc6_drop)\n",
    "fc7_drop = Dropout(0.5)(fc7)\n",
    "out = Dense(num_classes, activation='softmax', name='fc8')(fc7_drop)\n",
    "\n",
    "model = Model(inputs=inp, outputs=out)\n",
    "\n",
    "\n",
    "\n",
    "model.compile(loss='categorical_crossentropy', # using the cross-entropy loss function\n",
    "              optimizer='adam', # using the Adam optimiser\n",
    "              metrics=['accuracy']) # reporting the accuracy\n",
    "\n",
    "\n",
    "earlyStopping=EarlyStopping(monitor='val_loss', patience=0, verbose=0, mode='auto')\n",
    "\n",
    "\n",
    "model.fit(X_train, Y_train, # Train the model using the training set...\n",
    "          batch_size=batch_size, epochs=num_epochs,\n",
    "          verbose=2, validation_split=0.1,callbacks=[earlyStopping]) # ...holding out 10% of the data for validation\n",
    "\n",
    "\n",
    "model.evaluate(X_test, Y_test, verbose=1) # Evaluate the trained model on the test set!"
   ]
  },
  {
   "cell_type": "code",
   "execution_count": null,
   "metadata": {},
   "outputs": [],
   "source": [
    "#Вывод: либо я не VGG импользую либо херня какая то а не архитектура"
   ]
  }
 ],
 "metadata": {
  "accelerator": "GPU",
  "colab": {
   "default_view": {},
   "name": "First_try.ipynb",
   "provenance": [],
   "version": "0.3.2",
   "views": {}
  },
  "kernelspec": {
   "display_name": "Python 3",
   "language": "python",
   "name": "python3"
  },
  "language_info": {
   "codemirror_mode": {
    "name": "ipython",
    "version": 3
   },
   "file_extension": ".py",
   "mimetype": "text/x-python",
   "name": "python",
   "nbconvert_exporter": "python",
   "pygments_lexer": "ipython3",
   "version": "3.6.3"
  },
  "varInspector": {
   "cols": {
    "lenName": 16,
    "lenType": 16,
    "lenVar": 40
   },
   "kernels_config": {
    "python": {
     "delete_cmd_postfix": "",
     "delete_cmd_prefix": "del ",
     "library": "var_list.py",
     "varRefreshCmd": "print(var_dic_list())"
    },
    "r": {
     "delete_cmd_postfix": ") ",
     "delete_cmd_prefix": "rm(",
     "library": "var_list.r",
     "varRefreshCmd": "cat(var_dic_list()) "
    }
   },
   "types_to_exclude": [
    "module",
    "function",
    "builtin_function_or_method",
    "instance",
    "_Feature"
   ],
   "window_display": false
  }
 },
 "nbformat": 4,
 "nbformat_minor": 1
}
