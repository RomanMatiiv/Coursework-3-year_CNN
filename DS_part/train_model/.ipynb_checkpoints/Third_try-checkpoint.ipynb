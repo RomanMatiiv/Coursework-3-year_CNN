{
 "cells": [
  {
   "cell_type": "code",
   "execution_count": 1,
   "metadata": {
    "colab": {
     "autoexec": {
      "startup": false,
      "wait_interval": 0
     },
     "base_uri": "https://localhost:8080/",
     "height": 34
    },
    "colab_type": "code",
    "executionInfo": {
     "elapsed": 2033,
     "status": "ok",
     "timestamp": 1524400882067,
     "user": {
      "displayName": "Роман Матиив",
      "photoUrl": "https://lh3.googleusercontent.com/a/default-user=s128",
      "userId": "105811860036758856994"
     },
     "user_tz": -180
    },
    "id": "2P_sKauEd23y",
    "outputId": "7db7a167-7e63-4e9e-a12c-fbe31a2cf171"
   },
   "outputs": [
    {
     "name": "stderr",
     "output_type": "stream",
     "text": [
      "/home/roman/anaconda3/lib/python3.6/site-packages/h5py/__init__.py:34: FutureWarning: Conversion of the second argument of issubdtype from `float` to `np.floating` is deprecated. In future, it will be treated as `np.float64 == np.dtype(float).type`.\n",
      "  from ._conv import register_converters as _register_converters\n",
      "Using TensorFlow backend.\n"
     ]
    }
   ],
   "source": [
    "from keras.datasets import cifar10 # subroutines for fetching the CIFAR-10 dataset\n",
    "from keras.models import Model # basic class for specifying and training a neural network\n",
    "from keras.layers import Input, Conv2D, MaxPooling2D, Dense, Dropout, Flatten,BatchNormalization\n",
    "from keras.utils import np_utils # utilities for one-hot encoding of ground truth values\n",
    "from keras.callbacks import EarlyStopping\n",
    "\n",
    "# import warnings\n",
    "# warnings.filterwarnings('ignore')\n",
    "\n",
    "from sklearn.model_selection import train_test_split\n",
    "from sklearn.preprocessing import LabelEncoder\n",
    "import numpy as np\n",
    "import pandas as pd\n",
    "from PIL import Image\n",
    "import os\n",
    "from scipy import misc\n",
    "from  collections import Counter\n"
   ]
  },
  {
   "cell_type": "code",
   "execution_count": 2,
   "metadata": {
    "colab": {
     "autoexec": {
      "startup": false,
      "wait_interval": 0
     }
    },
    "colab_type": "code",
    "id": "wd99Jb3Jd24Q"
   },
   "outputs": [],
   "source": [
    "PATH_TO_IMAGES=\"/home/roman/DS_part/image_10_array/\"\n",
    "# PATH_TO_LABELS=\"/Volumes/HDD/Datasets/Курсач/vgg_face_dataset/files/_all_in_one_10.csv\""
   ]
  },
  {
   "cell_type": "markdown",
   "metadata": {
    "colab_type": "text",
    "id": "dhTB1pZAd24f"
   },
   "source": [
    "### Работа с данными"
   ]
  },
  {
   "cell_type": "code",
   "execution_count": 31,
   "metadata": {
    "colab": {
     "autoexec": {
      "startup": false,
      "wait_interval": 0
     }
    },
    "colab_type": "code",
    "id": "SpNePlzGd24j"
   },
   "outputs": [],
   "source": [
    "#Загрузка данных\n",
    "X=np.load(PATH_TO_IMAGES+\"X_data.npy\")\n",
    "y=np.load(PATH_TO_IMAGES+\"y_data.npy\")"
   ]
  },
  {
   "cell_type": "code",
   "execution_count": 32,
   "metadata": {
    "colab": {
     "autoexec": {
      "startup": false,
      "wait_interval": 0
     }
    },
    "colab_type": "code",
    "id": "Ty7Q0wlud24s"
   },
   "outputs": [],
   "source": [
    "#Кодирую имена числами\n",
    "la=LabelEncoder()\n",
    "y_copy=y.copy()\n",
    "y=la.fit_transform(y)"
   ]
  },
  {
   "cell_type": "code",
   "execution_count": 33,
   "metadata": {
    "colab": {
     "autoexec": {
      "startup": false,
      "wait_interval": 0
     }
    },
    "colab_type": "code",
    "id": "dEVu4lV2d240"
   },
   "outputs": [],
   "source": [
    "X_train, X_test, y_train,y_test=train_test_split(X,y,test_size=0.3,random_state=17,stratify=y)"
   ]
  },
  {
   "cell_type": "code",
   "execution_count": 34,
   "metadata": {
    "colab": {
     "autoexec": {
      "startup": false,
      "wait_interval": 0
     }
    },
    "colab_type": "code",
    "id": "umR85ClRd246"
   },
   "outputs": [],
   "source": [
    "num_train, height, width,depth = X_train.shape \n",
    "num_test = X_test.shape[0]\n",
    "num_classes = np.unique(y_train).shape[0] \n",
    "\n",
    "#new\n",
    "X_train =X_train/255 # Normalise data to [0, 1] range\n",
    "X_test =X_test/255 # Normalise data to [0, 1] range\n",
    "\n",
    "\n",
    "Y_train = np_utils.to_categorical(y_train, num_classes) # One-hot encode the labels\n",
    "Y_test = np_utils.to_categorical(y_test, num_classes) # One-hot encode the labels"
   ]
  },
  {
   "cell_type": "markdown",
   "metadata": {
    "colab_type": "text",
    "id": "CBt9CXopd25A"
   },
   "source": [
    "### Создание архитектуры и обучение модели"
   ]
  },
  {
   "cell_type": "code",
   "execution_count": 35,
   "metadata": {
    "colab": {
     "autoexec": {
      "startup": false,
      "wait_interval": 0
     }
    },
    "colab_type": "code",
    "id": "0HuvjBVJd25D"
   },
   "outputs": [],
   "source": [
    "batch_size = 32 # in each iteration, we consider 32 training examples at once\n",
    "num_epochs = 30 # we iterate 200 times over the entire training set\n",
    "kernel_size = (3,3) # we will use 3x3 kernels throughout\n",
    "pool_size = 2 # we will use 2x2 pooling throughout\n",
    "conv_depth_1 = 32 # we will initially have 32 kernels per conv. layer...\n",
    "conv_depth_2 = 64 # ...switching to 64 after the first pooling layer\n",
    "drop_prob_1 = 0.25 # dropout after pooling with probability 0.25\n",
    "drop_prob_2 = 0.5 # dropout in the FC layer with probability 0.5\n",
    "hidden_size = 512 # the FC layer will have 512 neurons"
   ]
  },
  {
   "cell_type": "markdown",
   "metadata": {},
   "source": [
    "#### Батч нормализация после relu (специальная начальная инициализация весов)"
   ]
  },
  {
   "cell_type": "code",
   "execution_count": 53,
   "metadata": {},
   "outputs": [
    {
     "name": "stdout",
     "output_type": "stream",
     "text": [
      "Train on 9903 samples, validate on 1101 samples\n",
      "Epoch 1/30\n",
      " - 71s - loss: 7.7839 - acc: 0.0047 - val_loss: 7.6104 - val_acc: 0.0100\n",
      "Epoch 2/30\n",
      " - 66s - loss: 6.8697 - acc: 0.0392 - val_loss: 7.1480 - val_acc: 0.0400\n",
      "Epoch 3/30\n",
      " - 66s - loss: 5.2055 - acc: 0.1692 - val_loss: 6.2183 - val_acc: 0.1017\n",
      "Epoch 4/30\n",
      " - 66s - loss: 3.3601 - acc: 0.4162 - val_loss: 5.7563 - val_acc: 0.1717\n",
      "Epoch 5/30\n",
      " - 66s - loss: 1.6050 - acc: 0.7297 - val_loss: 4.6658 - val_acc: 0.2843\n",
      "Epoch 6/30\n",
      " - 66s - loss: 0.5343 - acc: 0.9313 - val_loss: 4.8360 - val_acc: 0.2852\n",
      "4716/4716 [==============================] - 10s 2ms/step\n"
     ]
    },
    {
     "data": {
      "text/plain": [
       "[4.324153309661114, 0.3231552162849873]"
      ]
     },
     "execution_count": 53,
     "metadata": {},
     "output_type": "execute_result"
    }
   ],
   "source": [
    "inp = Input(shape=(height, width,depth))\n",
    "# Conv [32] -> Conv [32] -> Pool (with dropout on the pooling layer)\n",
    "conv_1 = Conv2D(conv_depth_1, kernel_size, padding='same', activation='relu',kernel_initializer='he_uniform')(inp)\n",
    "batch_norm_1=BatchNormalization()(conv_1)\n",
    "conv_2 = Conv2D(conv_depth_1, kernel_size,  padding='same', activation='relu',kernel_initializer='he_uniform')(batch_norm_1)\n",
    "batch_norm_2=BatchNormalization()(conv_2)\n",
    "pool_1 = MaxPooling2D(pool_size=(pool_size, pool_size))(batch_norm_2)\n",
    "drop_1 = Dropout(drop_prob_1)(pool_1)\n",
    "# Conv [64] -> Conv [64] -> Pool (with dropout on the pooling layer)\n",
    "conv_3 = Conv2D(conv_depth_2, kernel_size,  padding='same', activation='relu',kernel_initializer='he_uniform')(drop_1)\n",
    "batch_norm_3=BatchNormalization()(conv_3)\n",
    "conv_4 = Conv2D(conv_depth_2, kernel_size,  padding='same', activation='relu',kernel_initializer='he_uniform')(batch_norm_3)\n",
    "batch_norm_4=BatchNormalization()(conv_4)\n",
    "pool_2 = MaxPooling2D(pool_size=(pool_size, pool_size))(batch_norm_4)\n",
    "drop_2 = Dropout(drop_prob_1)(pool_2)\n",
    "# Now flatten to 1D, apply FC -> ReLU (with dropout) -> softmax\n",
    "flat = Flatten()(drop_2)\n",
    "hidden = Dense(hidden_size, activation='relu',kernel_initializer='he_uniform')(flat)\n",
    "batch_norm_5=BatchNormalization()(hidden)\n",
    "drop_3 = Dropout(drop_prob_2)(batch_norm_5)\n",
    "out = Dense(num_classes, activation='softmax',kernel_initializer='glorot_uniform')(drop_3)\n",
    "\n",
    "model = Model(inputs=inp, outputs=out) # To define a model, just specify its input and output layers\n",
    "\n",
    "model.compile(loss='categorical_crossentropy', # using the cross-entropy loss function\n",
    "              optimizer='adam', # using the Adam optimiser\n",
    "              metrics=['accuracy']) # reporting the accuracy\n",
    "\n",
    "\n",
    "earlyStopping=EarlyStopping(monitor='val_loss', patience=0, verbose=0, mode='auto')\n",
    "\n",
    "\n",
    "model.fit(X_train, Y_train, # Train the model using the training set...\n",
    "          batch_size=batch_size, epochs=num_epochs,\n",
    "          verbose=2, validation_split=0.1,callbacks=[earlyStopping]) # ...holding out 10% of the data for validation\n",
    "\n",
    "\n",
    "model.evaluate(X_test, Y_test, verbose=1) # Evaluate the trained model on the test set!"
   ]
  },
  {
   "cell_type": "code",
   "execution_count": null,
   "metadata": {},
   "outputs": [],
   "source": []
  }
 ],
 "metadata": {
  "accelerator": "GPU",
  "colab": {
   "default_view": {},
   "name": "First_try.ipynb",
   "provenance": [],
   "version": "0.3.2",
   "views": {}
  },
  "kernelspec": {
   "display_name": "Python 3",
   "language": "python",
   "name": "python3"
  },
  "language_info": {
   "codemirror_mode": {
    "name": "ipython",
    "version": 3
   },
   "file_extension": ".py",
   "mimetype": "text/x-python",
   "name": "python",
   "nbconvert_exporter": "python",
   "pygments_lexer": "ipython3",
   "version": "3.6.4"
  },
  "toc": {
   "base_numbering": 1,
   "nav_menu": {},
   "number_sections": false,
   "sideBar": true,
   "skip_h1_title": false,
   "title_cell": "Table of Contents",
   "title_sidebar": "Contents",
   "toc_cell": false,
   "toc_position": {},
   "toc_section_display": true,
   "toc_window_display": false
  },
  "varInspector": {
   "cols": {
    "lenName": 16,
    "lenType": 16,
    "lenVar": 40
   },
   "kernels_config": {
    "python": {
     "delete_cmd_postfix": "",
     "delete_cmd_prefix": "del ",
     "library": "var_list.py",
     "varRefreshCmd": "print(var_dic_list())"
    },
    "r": {
     "delete_cmd_postfix": ") ",
     "delete_cmd_prefix": "rm(",
     "library": "var_list.r",
     "varRefreshCmd": "cat(var_dic_list()) "
    }
   },
   "types_to_exclude": [
    "module",
    "function",
    "builtin_function_or_method",
    "instance",
    "_Feature"
   ],
   "window_display": false
  }
 },
 "nbformat": 4,
 "nbformat_minor": 1
}
