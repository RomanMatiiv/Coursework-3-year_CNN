{
 "cells": [
  {
   "cell_type": "markdown",
   "metadata": {},
   "source": [
    "### Импорты"
   ]
  },
  {
   "cell_type": "code",
   "execution_count": 1,
   "metadata": {
    "colab": {
     "autoexec": {
      "startup": false,
      "wait_interval": 0
     },
     "base_uri": "https://localhost:8080/",
     "height": 34
    },
    "colab_type": "code",
    "executionInfo": {
     "elapsed": 2033,
     "status": "ok",
     "timestamp": 1524400882067,
     "user": {
      "displayName": "Роман Матиив",
      "photoUrl": "https://lh3.googleusercontent.com/a/default-user=s128",
      "userId": "105811860036758856994"
     },
     "user_tz": -180
    },
    "id": "2P_sKauEd23y",
    "outputId": "7db7a167-7e63-4e9e-a12c-fbe31a2cf171"
   },
   "outputs": [
    {
     "name": "stderr",
     "output_type": "stream",
     "text": [
      "/home/roman/anaconda3/lib/python3.6/site-packages/h5py/__init__.py:34: FutureWarning: Conversion of the second argument of issubdtype from `float` to `np.floating` is deprecated. In future, it will be treated as `np.float64 == np.dtype(float).type`.\n",
      "  from ._conv import register_converters as _register_converters\n",
      "Using TensorFlow backend.\n"
     ]
    }
   ],
   "source": [
    "from keras.models import Model,load_model \n",
    "from keras.layers import Input, Conv2D, MaxPooling2D, Dense, Dropout, Flatten,BatchNormalization\n",
    "from keras.utils import np_utils \n",
    "from keras.callbacks import EarlyStopping,ModelCheckpoint\n",
    "\n",
    "# import warnings\n",
    "# warnings.filterwarnings('ignore')\n",
    "\n",
    "from sklearn.model_selection import train_test_split\n",
    "from sklearn.preprocessing import LabelEncoder\n",
    "import numpy as np\n",
    "import pandas as pd\n",
    "from PIL import Image\n",
    "import os\n",
    "from scipy.misc.pilutil import imshow\n",
    "from  collections import Counter\n",
    "import matplotlib.pyplot as plt\n",
    "%matplotlib inline\n",
    "\n",
    "PATH_TO_IMAGES=\"/home/roman/DS_part/image_50_array/\"\n",
    "PATH_TO_SAVE_MODEL=\"/home/roman/DS_part/saved_model/model.h5\""
   ]
  },
  {
   "cell_type": "markdown",
   "metadata": {
    "colab_type": "text",
    "id": "dhTB1pZAd24f"
   },
   "source": [
    "### Работа с данными"
   ]
  },
  {
   "cell_type": "code",
   "execution_count": 2,
   "metadata": {
    "colab": {
     "autoexec": {
      "startup": false,
      "wait_interval": 0
     }
    },
    "colab_type": "code",
    "id": "SpNePlzGd24j"
   },
   "outputs": [],
   "source": [
    "#Загрузка данных\n",
    "X=np.load(PATH_TO_IMAGES+\"X_data.npy\")\n",
    "y=np.load(PATH_TO_IMAGES+\"y_data.npy\")"
   ]
  },
  {
   "cell_type": "code",
   "execution_count": 3,
   "metadata": {
    "colab": {
     "autoexec": {
      "startup": false,
      "wait_interval": 0
     }
    },
    "colab_type": "code",
    "id": "Ty7Q0wlud24s"
   },
   "outputs": [],
   "source": [
    "#Кодирую имена числами\n",
    "la=LabelEncoder()\n",
    "y_copy=y.copy()\n",
    "y=la.fit_transform(y)"
   ]
  },
  {
   "cell_type": "code",
   "execution_count": 4,
   "metadata": {
    "colab": {
     "autoexec": {
      "startup": false,
      "wait_interval": 0
     }
    },
    "colab_type": "code",
    "id": "dEVu4lV2d240"
   },
   "outputs": [],
   "source": [
    "X_train, X_test, y_train,y_test=train_test_split(X,y,test_size=0.3,random_state=17,stratify=y)"
   ]
  },
  {
   "cell_type": "code",
   "execution_count": 5,
   "metadata": {
    "colab": {
     "autoexec": {
      "startup": false,
      "wait_interval": 0
     }
    },
    "colab_type": "code",
    "id": "umR85ClRd246"
   },
   "outputs": [],
   "source": [
    "num_train, height, width,depth = X_train.shape \n",
    "num_test = X_test.shape[0]\n",
    "num_classes = np.unique(y_train).shape[0] \n",
    "\n",
    "\n",
    "X_train =X_train/255 \n",
    "X_test =X_test/255 \n",
    "\n",
    "\n",
    "Y_train = np_utils.to_categorical(y_train, num_classes) \n",
    "Y_test = np_utils.to_categorical(y_test, num_classes) "
   ]
  },
  {
   "cell_type": "markdown",
   "metadata": {
    "colab_type": "text",
    "id": "CBt9CXopd25A"
   },
   "source": [
    "### Создание архитектуры и обучение модели"
   ]
  },
  {
   "cell_type": "code",
   "execution_count": 6,
   "metadata": {
    "colab": {
     "autoexec": {
      "startup": false,
      "wait_interval": 0
     }
    },
    "colab_type": "code",
    "id": "0HuvjBVJd25D"
   },
   "outputs": [],
   "source": [
    "batch_size = 256\n",
    "num_epochs = 100"
   ]
  },
  {
   "cell_type": "code",
   "execution_count": 10,
   "metadata": {
    "scrolled": true
   },
   "outputs": [
    {
     "name": "stdout",
     "output_type": "stream",
     "text": [
      "Train on 49197 samples, validate on 5467 samples\n",
      "Epoch 1/100\n",
      " - 342s - loss: 7.0654 - acc: 0.0210 - val_loss: 5.8102 - val_acc: 0.0680\n",
      "\n",
      "Epoch 00001: val_acc improved from -inf to 0.06804, saving model to /home/roman/DS_part/saved_model/model.h5\n",
      "Epoch 2/100\n",
      " - 336s - loss: 4.7949 - acc: 0.2060 - val_loss: 3.8935 - val_acc: 0.2819\n",
      "\n",
      "Epoch 00002: val_acc improved from 0.06804 to 0.28187, saving model to /home/roman/DS_part/saved_model/model.h5\n",
      "Epoch 3/100\n",
      " - 336s - loss: 2.7641 - acc: 0.5185 - val_loss: 2.2657 - val_acc: 0.5729\n",
      "\n",
      "Epoch 00003: val_acc improved from 0.28187 to 0.57289, saving model to /home/roman/DS_part/saved_model/model.h5\n",
      "Epoch 4/100\n",
      " - 336s - loss: 1.4426 - acc: 0.7484 - val_loss: 1.5499 - val_acc: 0.6978\n",
      "\n",
      "Epoch 00004: val_acc improved from 0.57289 to 0.69782, saving model to /home/roman/DS_part/saved_model/model.h5\n",
      "Epoch 5/100\n",
      " - 336s - loss: 0.7491 - acc: 0.8722 - val_loss: 1.1923 - val_acc: 0.7710\n",
      "\n",
      "Epoch 00005: val_acc improved from 0.69782 to 0.77099, saving model to /home/roman/DS_part/saved_model/model.h5\n",
      "Epoch 6/100\n",
      " - 336s - loss: 0.4083 - acc: 0.9326 - val_loss: 1.0731 - val_acc: 0.7935\n",
      "\n",
      "Epoch 00006: val_acc improved from 0.77099 to 0.79349, saving model to /home/roman/DS_part/saved_model/model.h5\n",
      "Epoch 7/100\n",
      " - 337s - loss: 0.2154 - acc: 0.9684 - val_loss: 0.9848 - val_acc: 0.8061\n",
      "\n",
      "Epoch 00007: val_acc improved from 0.79349 to 0.80611, saving model to /home/roman/DS_part/saved_model/model.h5\n",
      "Epoch 8/100\n",
      " - 337s - loss: 0.1395 - acc: 0.9811 - val_loss: 1.0705 - val_acc: 0.7838\n",
      "\n",
      "Epoch 00008: val_acc did not improve\n",
      "Epoch 9/100\n",
      " - 337s - loss: 0.1026 - acc: 0.9861 - val_loss: 0.8991 - val_acc: 0.8226\n",
      "\n",
      "Epoch 00009: val_acc improved from 0.80611 to 0.82257, saving model to /home/roman/DS_part/saved_model/model.h5\n",
      "Epoch 10/100\n",
      " - 337s - loss: 0.0799 - acc: 0.9891 - val_loss: 1.0262 - val_acc: 0.7896\n",
      "\n",
      "Epoch 00010: val_acc did not improve\n",
      "Epoch 11/100\n",
      " - 337s - loss: 0.0715 - acc: 0.9899 - val_loss: 0.9503 - val_acc: 0.8096\n",
      "\n",
      "Epoch 00011: val_acc did not improve\n",
      "Epoch 12/100\n",
      " - 337s - loss: 0.0654 - acc: 0.9895 - val_loss: 0.8935 - val_acc: 0.8202\n",
      "\n",
      "Epoch 00012: val_acc did not improve\n",
      "Epoch 13/100\n",
      " - 336s - loss: 0.0577 - acc: 0.9910 - val_loss: 0.8538 - val_acc: 0.8295\n",
      "\n",
      "Epoch 00013: val_acc improved from 0.82257 to 0.82952, saving model to /home/roman/DS_part/saved_model/model.h5\n",
      "Epoch 14/100\n",
      " - 336s - loss: 0.0589 - acc: 0.9902 - val_loss: 1.0508 - val_acc: 0.7880\n",
      "\n",
      "Epoch 00014: val_acc did not improve\n",
      "Epoch 15/100\n",
      " - 336s - loss: 0.0611 - acc: 0.9895 - val_loss: 0.9246 - val_acc: 0.8132\n",
      "\n",
      "Epoch 00015: val_acc did not improve\n",
      "Epoch 16/100\n",
      " - 336s - loss: 0.0619 - acc: 0.9879 - val_loss: 1.0925 - val_acc: 0.7836\n",
      "\n",
      "Epoch 00016: val_acc did not improve\n",
      "23428/23428 [==============================] - 59s 3ms/step\n"
     ]
    },
    {
     "data": {
      "text/plain": [
       "[0.8151623320641607, 0.8345996243810825]"
      ]
     },
     "execution_count": 10,
     "metadata": {},
     "output_type": "execute_result"
    }
   ],
   "source": [
    "inp = Input(shape=(height, width,depth))\n",
    "# Conv [32] -> Conv [32] -> Pool (with dropout on the pooling layer)\n",
    "conv_1 = Conv2D(32, (3,3), padding='same', activation='relu',kernel_initializer='he_uniform')(inp)\n",
    "batch_norm_1=BatchNormalization()(conv_1)\n",
    "conv_2 = Conv2D(32, (3,3),  padding='same', activation='relu',kernel_initializer='he_uniform')(batch_norm_1)\n",
    "batch_norm_2=BatchNormalization()(conv_2)\n",
    "pool_1 = MaxPooling2D(pool_size=(2, 2))(batch_norm_2)\n",
    "drop_1 = Dropout(0.25)(pool_1)\n",
    "\n",
    "# Conv [64] -> Conv [64] -> Pool (with dropout on the pooling layer)\n",
    "conv_3 = Conv2D(64, (3,3),  padding='same', activation='relu',kernel_initializer='he_uniform')(drop_1)\n",
    "batch_norm_3=BatchNormalization()(conv_3)\n",
    "conv_4 = Conv2D(64, (3,3),  padding='same', activation='relu',kernel_initializer='he_uniform')(batch_norm_3)\n",
    "batch_norm_4=BatchNormalization()(conv_4)\n",
    "pool_2 = MaxPooling2D(pool_size=(2, 2))(batch_norm_4)\n",
    "drop_2 = Dropout(0.25)(pool_2)\n",
    "\n",
    "# Conv [64] -> Conv [128] -> Pool (with dropout on the pooling layer)\n",
    "conv_4 = Conv2D(128, (3,3),  padding='same', activation='relu',kernel_initializer='he_uniform')(drop_2)\n",
    "batch_norm_4=BatchNormalization()(conv_4)\n",
    "conv_5 = Conv2D(128, (3,3),  padding='same', activation='relu',kernel_initializer='he_uniform')(batch_norm_4)\n",
    "batch_norm_5=BatchNormalization()(conv_5)\n",
    "pool_3 = MaxPooling2D(pool_size=(2, 2))(batch_norm_5)\n",
    "drop_3 = Dropout(0.25)(pool_3)\n",
    "\n",
    "# FC -> ReLU (with dropout) -> softmax\n",
    "flat = Flatten()(drop_3)\n",
    "hidden = Dense(512, activation='relu',kernel_initializer='he_uniform')(flat)\n",
    "batch_norm_6=BatchNormalization()(hidden)\n",
    "drop_4 = Dropout(0.5)(batch_norm_6)\n",
    "out = Dense(num_classes, activation='softmax',kernel_initializer='glorot_uniform')(drop_4)\n",
    "\n",
    "model = Model(inputs=inp, outputs=out)\n",
    "\n",
    "model.compile(loss='categorical_crossentropy', \n",
    "              optimizer='adam', \n",
    "              metrics=['accuracy'])\n",
    "\n",
    "#callbacks\n",
    "earlyStopping=EarlyStopping(monitor='val_loss', patience=3, verbose=0, mode='auto')\n",
    "checkpoint = ModelCheckpoint(PATH_TO_SAVE_MODEL, monitor='val_acc', verbose=1, save_best_only=True, mode='max')\n",
    "\n",
    "model.fit(X_train, Y_train, \n",
    "          batch_size=batch_size, epochs=num_epochs,\n",
    "          verbose=2, validation_split=0.1,callbacks=[earlyStopping,checkpoint]) \n",
    "\n",
    "#Загрузка лучшей модели\n",
    "model=load_model(PATH_TO_SAVE_MODEL)\n",
    "\n",
    "model.evaluate(X_test, Y_test, verbose=1) "
   ]
  },
  {
   "cell_type": "code",
   "execution_count": null,
   "metadata": {},
   "outputs": [],
   "source": [
    "[0.8151623320641607, 0.8345996243810825]"
   ]
  },
  {
   "cell_type": "code",
   "execution_count": null,
   "metadata": {},
   "outputs": [],
   "source": []
  },
  {
   "cell_type": "code",
   "execution_count": null,
   "metadata": {},
   "outputs": [],
   "source": []
  }
 ],
 "metadata": {
  "accelerator": "GPU",
  "colab": {
   "default_view": {},
   "name": "First_try.ipynb",
   "provenance": [],
   "version": "0.3.2",
   "views": {}
  },
  "kernelspec": {
   "display_name": "Python 3",
   "language": "python",
   "name": "python3"
  },
  "language_info": {
   "codemirror_mode": {
    "name": "ipython",
    "version": 3
   },
   "file_extension": ".py",
   "mimetype": "text/x-python",
   "name": "python",
   "nbconvert_exporter": "python",
   "pygments_lexer": "ipython3",
   "version": "3.6.4"
  },
  "toc": {
   "base_numbering": 1,
   "nav_menu": {},
   "number_sections": false,
   "sideBar": true,
   "skip_h1_title": false,
   "title_cell": "Table of Contents",
   "title_sidebar": "Contents",
   "toc_cell": false,
   "toc_position": {},
   "toc_section_display": true,
   "toc_window_display": false
  },
  "varInspector": {
   "cols": {
    "lenName": 16,
    "lenType": 16,
    "lenVar": 40
   },
   "kernels_config": {
    "python": {
     "delete_cmd_postfix": "",
     "delete_cmd_prefix": "del ",
     "library": "var_list.py",
     "varRefreshCmd": "print(var_dic_list())"
    },
    "r": {
     "delete_cmd_postfix": ") ",
     "delete_cmd_prefix": "rm(",
     "library": "var_list.r",
     "varRefreshCmd": "cat(var_dic_list()) "
    }
   },
   "types_to_exclude": [
    "module",
    "function",
    "builtin_function_or_method",
    "instance",
    "_Feature"
   ],
   "window_display": false
  }
 },
 "nbformat": 4,
 "nbformat_minor": 1
}
