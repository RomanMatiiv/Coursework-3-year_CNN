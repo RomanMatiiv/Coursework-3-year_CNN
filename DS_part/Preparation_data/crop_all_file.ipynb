{
 "cells": [
  {
   "cell_type": "code",
   "execution_count": 37,
   "metadata": {},
   "outputs": [],
   "source": [
    "from tqdm import tqdm_notebook as tqdm\n",
    "from imagePreprocessing import alignment,alignment_cv\n",
    "import matplotlib.pyplot as plt\n",
    "import os\n",
    "import imghdr\n",
    "import cv2 as cv\n",
    "\n",
    "\n",
    "\n",
    "\n",
    "\n",
    "\n",
    "# PATH_TO_DOWNLOAD=\"/Volumes/HDD/Datasets/coursework/vgg_face_dataset/images_50/\"\n",
    "PATH_TO_DOWNLOAD=\"/Volumes/HDD/Datasets/coursework/vgg_face_dataset/exp/\"\n",
    "PAHT_TO_CROPED=\"/Volumes/HDD/Datasets/coursework/vgg_face_dataset/images_50_crop_cnn/\"\n",
    "PATH_TO_FACE_CASCADE=\"/Users/roman/anaconda3/pkgs/libopencv-3.4.1-he076b03_1/share/OpenCV/haarcascades/haarcascade_frontalface_default.xml\"\n",
    "PATH_TO_EYE_CASCADE=\"/Users/roman/anaconda3/pkgs/libopencv-3.4.1-he076b03_1/share/OpenCV/haarcascades/haarcascade_eye.xml\""
   ]
  },
  {
   "cell_type": "code",
   "execution_count": 24,
   "metadata": {},
   "outputs": [],
   "source": [
    "def crop_face(path_to_images,path_to_new_folder,model):\n",
    "    errors=0\n",
    "    num_img=0\n",
    "    for file in tqdm(os.listdir(path_to_images)):\n",
    "        name,ext=os.path.splitext(file)\n",
    "        if ext==\".jpg\":\n",
    "\n",
    "            checker=imghdr.what(path_to_images+file)\n",
    "            if checker ==\"jpeg\":\n",
    "                num_img+=1\n",
    "                try:\n",
    "                    cropped_img=alignment(path_to_images+file,model=model)\n",
    "                except (IndexError,ValueError):\n",
    "                    errors+=1\n",
    "                    continue\n",
    "                plt.imsave(path_to_new_folder+file,cropped_img)\n",
    "    return (errors*100/num_img)"
   ]
  },
  {
   "cell_type": "code",
   "execution_count": 25,
   "metadata": {},
   "outputs": [
    {
     "data": {
      "application/vnd.jupyter.widget-view+json": {
       "model_id": "f39557e7347145beabe663d24198e99d",
       "version_major": 2,
       "version_minor": 0
      },
      "text/plain": [
       "HBox(children=(IntProgress(value=0, max=1298), HTML(value='')))"
      ]
     },
     "metadata": {},
     "output_type": "display_data"
    },
    {
     "data": {
      "text/plain": [
       "21.312872975277067"
      ]
     },
     "execution_count": 25,
     "metadata": {},
     "output_type": "execute_result"
    }
   ],
   "source": [
    "crop_face(PATH_TO_DOWNLOAD,PAHT_TO_CROPED,\"hog\")"
   ]
  },
  {
   "cell_type": "code",
   "execution_count": 38,
   "metadata": {},
   "outputs": [
    {
     "data": {
      "application/vnd.jupyter.widget-view+json": {
       "model_id": "21dc0908559440b7a75df512f396f468",
       "version_major": 2,
       "version_minor": 0
      },
      "text/plain": [
       "HBox(children=(IntProgress(value=0, max=1298), HTML(value='')))"
      ]
     },
     "metadata": {},
     "output_type": "display_data"
    },
    {
     "data": {
      "text/plain": [
       "36.31713554987212"
      ]
     },
     "execution_count": 38,
     "metadata": {},
     "output_type": "execute_result"
    }
   ],
   "source": [
    "crop_face(PATH_TO_DOWNLOAD,PAHT_TO_CROPED,\"cnn\")"
   ]
  },
  {
   "cell_type": "code",
   "execution_count": 34,
   "metadata": {},
   "outputs": [],
   "source": [
    "def crop_face_cv(path_to_images,path_to_new_folder,path_to_face_cascade,path_to_eye_cascade):\n",
    "    errors=0\n",
    "    num_img=0\n",
    "    for file in tqdm(os.listdir(path_to_images)):\n",
    "        name,ext=os.path.splitext(file)\n",
    "        if ext==\".jpg\":\n",
    "\n",
    "            checker=imghdr.what(path_to_images+file)\n",
    "            if checker ==\"jpeg\":\n",
    "                num_img+=1\n",
    "                \n",
    "                try:\n",
    "                    cropped_img=alignment_cv(path_to_images+file,path_to_face_cascade,path_to_eye_cascade)\n",
    "                except (ValueError,TypeError,cv.error):\n",
    "                    errors+=1\n",
    "                    continue\n",
    "                plt.imsave(path_to_new_folder+file,cropped_img)\n",
    "    return (errors*100/num_img)"
   ]
  },
  {
   "cell_type": "code",
   "execution_count": 35,
   "metadata": {},
   "outputs": [
    {
     "data": {
      "application/vnd.jupyter.widget-view+json": {
       "model_id": "ccf2fbd6aadb47bcb1b31a7535c4d968",
       "version_major": 2,
       "version_minor": 0
      },
      "text/plain": [
       "HBox(children=(IntProgress(value=0, max=1298), HTML(value='')))"
      ]
     },
     "metadata": {},
     "output_type": "display_data"
    },
    {
     "data": {
      "text/plain": [
       "46.632566069906225"
      ]
     },
     "execution_count": 35,
     "metadata": {},
     "output_type": "execute_result"
    }
   ],
   "source": [
    "crop_face_cv(PATH_TO_DOWNLOAD,PAHT_TO_CROPED,PATH_TO_FACE_CASCADE,PATH_TO_EYE_CASCADE)"
   ]
  },
  {
   "cell_type": "code",
   "execution_count": 7,
   "metadata": {},
   "outputs": [],
   "source": []
  },
  {
   "cell_type": "code",
   "execution_count": null,
   "metadata": {},
   "outputs": [],
   "source": []
  },
  {
   "cell_type": "code",
   "execution_count": null,
   "metadata": {},
   "outputs": [],
   "source": []
  }
 ],
 "metadata": {
  "kernelspec": {
   "display_name": "Python 3",
   "language": "python",
   "name": "python3"
  },
  "language_info": {
   "codemirror_mode": {
    "name": "ipython",
    "version": 3
   },
   "file_extension": ".py",
   "mimetype": "text/x-python",
   "name": "python",
   "nbconvert_exporter": "python",
   "pygments_lexer": "ipython3",
   "version": "3.6.5"
  },
  "toc": {
   "base_numbering": 1,
   "nav_menu": {},
   "number_sections": false,
   "sideBar": true,
   "skip_h1_title": false,
   "title_cell": "Table of Contents",
   "title_sidebar": "Contents",
   "toc_cell": false,
   "toc_position": {},
   "toc_section_display": true,
   "toc_window_display": false
  },
  "varInspector": {
   "cols": {
    "lenName": 16,
    "lenType": 16,
    "lenVar": 40
   },
   "kernels_config": {
    "python": {
     "delete_cmd_postfix": "",
     "delete_cmd_prefix": "del ",
     "library": "var_list.py",
     "varRefreshCmd": "print(var_dic_list())"
    },
    "r": {
     "delete_cmd_postfix": ") ",
     "delete_cmd_prefix": "rm(",
     "library": "var_list.r",
     "varRefreshCmd": "cat(var_dic_list()) "
    }
   },
   "types_to_exclude": [
    "module",
    "function",
    "builtin_function_or_method",
    "instance",
    "_Feature"
   ],
   "window_display": false
  }
 },
 "nbformat": 4,
 "nbformat_minor": 2
}
