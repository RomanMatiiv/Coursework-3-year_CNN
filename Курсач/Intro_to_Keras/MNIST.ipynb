{
 "cells": [
  {
   "cell_type": "markdown",
   "metadata": {},
   "source": [
    "https://habrahabr.ru/company/wunderfund/blog/314242/ "
   ]
  },
  {
   "cell_type": "code",
   "execution_count": 1,
   "metadata": {},
   "outputs": [
    {
     "name": "stderr",
     "output_type": "stream",
     "text": [
      "/Users/roman/anaconda3/lib/python3.6/site-packages/h5py/__init__.py:34: FutureWarning: Conversion of the second argument of issubdtype from `float` to `np.floating` is deprecated. In future, it will be treated as `np.float64 == np.dtype(float).type`.\n",
      "  from ._conv import register_converters as _register_converters\n",
      "Using TensorFlow backend.\n"
     ]
    }
   ],
   "source": [
    "from keras.datasets import mnist # MNIST datasets\n",
    "from keras.models import Model # basic class for specifying and training a neural network\n",
    "from keras.layers import Input, Dense # 2 типа слоев (входной и полносвязный)\n",
    "from keras.utils import np_utils # для OHE целевой переменной (нужно для кросс энтропии)"
   ]
  },
  {
   "cell_type": "code",
   "execution_count": 2,
   "metadata": {
    "collapsed": true
   },
   "outputs": [],
   "source": [
    "import matplotlib.pyplot as plt\n",
    "%matplotlib inline"
   ]
  },
  {
   "cell_type": "markdown",
   "metadata": {},
   "source": [
    "_______"
   ]
  },
  {
   "cell_type": "code",
   "execution_count": 3,
   "metadata": {
    "collapsed": true
   },
   "outputs": [],
   "source": [
    "batch_size = 128 # кол-во обьектов подающихся за 1 раз\n",
    "num_epochs = 20 # 20 эпох (20 итерация по всему train)\n",
    "hidden_size = 512 # в кол-во нейронов в скрытом слое"
   ]
  },
  {
   "cell_type": "code",
   "execution_count": 4,
   "metadata": {
    "collapsed": true
   },
   "outputs": [],
   "source": [
    "num_train = 60000 # 60 000 train\n",
    "num_test = 10000 # 10 000 test\n",
    "\n",
    "height, width, depth = 28, 28, 1 # MNIST images are 28x28 and greyscale\n",
    "num_classes = 10 # there are 10 classes (1 per digit)\n",
    "\n",
    "(X_train, y_train), (X_test, y_test) = mnist.load_data() # fetch MNIST data\n",
    "\n",
    "X_train = X_train.reshape(num_train, height * width) # Flatten data to 1D\n",
    "X_test = X_test.reshape(num_test, height * width) # Flatten data to 1D\n",
    "X_train = X_train.astype('float32') \n",
    "X_test = X_test.astype('float32')\n",
    "X_train /= 255 # Normalise data to [0, 1] range\n",
    "X_test /= 255 # Normalise data to [0, 1] range\n",
    "\n",
    "Y_train = np_utils.to_categorical(y_train, num_classes) # One-hot encode the labels\n",
    "Y_test = np_utils.to_categorical(y_test, num_classes) # One-hot encode the labels"
   ]
  },
  {
   "cell_type": "markdown",
   "metadata": {},
   "source": [
    "### Пример из каждого класса"
   ]
  },
  {
   "cell_type": "code",
   "execution_count": 5,
   "metadata": {},
   "outputs": [
    {
     "data": {
      "image/png": "[encoded data removed]",
      "text/plain": [
       "<matplotlib.figure.Figure at 0x12e907f60>"
      ]
     },
     "metadata": {},
     "output_type": "display_data"
    }
   ],
   "source": [
    "for i in range(1,11):\n",
    "    plt.subplot(2,5,i)\n",
    "    plt.title(str(i-1))\n",
    "    plt.imshow(X_train[y_train==i-1][0].reshape(28,28))"
   ]
  },
  {
   "cell_type": "code",
   "execution_count": 59,
   "metadata": {},
   "outputs": [
    {
     "name": "stderr",
     "output_type": "stream",
     "text": [
      "/Users/roman/anaconda3/lib/python3.6/site-packages/ipykernel_launcher.py:6: UserWarning: Update your `Model` call to the Keras 2 API: `Model(inputs=Tensor(\"in..., outputs=Tensor(\"de...)`\n",
      "  \n"
     ]
    }
   ],
   "source": [
    "inp = Input(shape=(height * width,)) # 28x28\n",
    "hidden_1 = Dense(hidden_size, activation='relu')(inp) # First hidden ReLU layer\n",
    "hidden_2 = Dense(hidden_size, activation='relu')(hidden_1) # Second hidden ReLU layer\n",
    "out = Dense(num_classes, activation='softmax')(hidden_2) # Output softmax layer\n",
    "\n",
    "model = Model(input=inp, output=out) # To define a model, just specify its input and output layers"
   ]
  },
  {
   "cell_type": "code",
   "execution_count": 60,
   "metadata": {
    "collapsed": true
   },
   "outputs": [],
   "source": [
    "model.compile(loss='categorical_crossentropy', # using the cross-entropy loss function\n",
    "              optimizer='adam', # using the Adam optimiser\n",
    "              metrics=['accuracy']) # reporting the accuracy"
   ]
  },
  {
   "cell_type": "code",
   "execution_count": 56,
   "metadata": {},
   "outputs": [
    {
     "name": "stderr",
     "output_type": "stream",
     "text": [
      "/Users/roman/anaconda3/lib/python3.6/site-packages/ipykernel_launcher.py:3: UserWarning: The `nb_epoch` argument in `fit` has been renamed `epochs`.\n",
      "  This is separate from the ipykernel package so we can avoid doing imports until\n"
     ]
    },
    {
     "name": "stdout",
     "output_type": "stream",
     "text": [
      "Train on 54000 samples, validate on 6000 samples\n",
      "Epoch 1/20\n",
      "54000/54000 [==============================] - 10s 194us/step - loss: 0.2343 - acc: 0.9296 - val_loss: 0.1020 - val_acc: 0.9702\n",
      "Epoch 2/20\n",
      "54000/54000 [==============================] - 9s 175us/step - loss: 0.0839 - acc: 0.9746 - val_loss: 0.0819 - val_acc: 0.9742\n",
      "Epoch 3/20\n",
      "54000/54000 [==============================] - 9s 174us/step - loss: 0.0532 - acc: 0.9835 - val_loss: 0.0783 - val_acc: 0.9775\n",
      "Epoch 4/20\n",
      "54000/54000 [==============================] - 9s 175us/step - loss: 0.0364 - acc: 0.9883 - val_loss: 0.1081 - val_acc: 0.9675\n",
      "Epoch 5/20\n",
      "54000/54000 [==============================] - 10s 180us/step - loss: 0.0293 - acc: 0.9903 - val_loss: 0.0940 - val_acc: 0.97201s - loss: \n",
      "Epoch 6/20\n",
      "54000/54000 [==============================] - 10s 183us/step - loss: 0.0242 - acc: 0.9919 - val_loss: 0.0890 - val_acc: 0.9773\n",
      "Epoch 7/20\n",
      "54000/54000 [==============================] - 10s 180us/step - loss: 0.0190 - acc: 0.9938 - val_loss: 0.0713 - val_acc: 0.9822\n",
      "Epoch 8/20\n",
      "54000/54000 [==============================] - 10s 176us/step - loss: 0.0156 - acc: 0.9949 - val_loss: 0.0829 - val_acc: 0.9782\n",
      "Epoch 9/20\n",
      "54000/54000 [==============================] - 10s 180us/step - loss: 0.0128 - acc: 0.9957 - val_loss: 0.0877 - val_acc: 0.9803\n",
      "Epoch 10/20\n",
      "54000/54000 [==============================] - 10s 182us/step - loss: 0.0146 - acc: 0.9949 - val_loss: 0.0885 - val_acc: 0.9788\n",
      "Epoch 11/20\n",
      "54000/54000 [==============================] - 9s 173us/step - loss: 0.0149 - acc: 0.9949 - val_loss: 0.0812 - val_acc: 0.9815\n",
      "Epoch 12/20\n",
      "54000/54000 [==============================] - 9s 174us/step - loss: 0.0114 - acc: 0.9963 - val_loss: 0.1122 - val_acc: 0.9752\n",
      "Epoch 13/20\n",
      "54000/54000 [==============================] - 9s 173us/step - loss: 0.0097 - acc: 0.9969 - val_loss: 0.0759 - val_acc: 0.9832\n",
      "Epoch 14/20\n",
      "54000/54000 [==============================] - 9s 174us/step - loss: 0.0116 - acc: 0.9961 - val_loss: 0.1039 - val_acc: 0.9812\n",
      "Epoch 15/20\n",
      "54000/54000 [==============================] - 9s 173us/step - loss: 0.0092 - acc: 0.9971 - val_loss: 0.0887 - val_acc: 0.9820\n",
      "Epoch 16/20\n",
      "54000/54000 [==============================] - 9s 174us/step - loss: 0.0116 - acc: 0.9962 - val_loss: 0.0930 - val_acc: 0.9815\n",
      "Epoch 17/20\n",
      "54000/54000 [==============================] - 9s 174us/step - loss: 0.0067 - acc: 0.9979 - val_loss: 0.0923 - val_acc: 0.9817\n",
      "Epoch 18/20\n",
      "54000/54000 [==============================] - 9s 174us/step - loss: 0.0091 - acc: 0.9972 - val_loss: 0.0982 - val_acc: 0.9817\n",
      "Epoch 19/20\n",
      "54000/54000 [==============================] - 9s 174us/step - loss: 0.0100 - acc: 0.9967 - val_loss: 0.0888 - val_acc: 0.9825\n",
      "Epoch 20/20\n",
      "54000/54000 [==============================] - 9s 174us/step - loss: 0.0039 - acc: 0.9988 - val_loss: 0.0863 - val_acc: 0.9857\n"
     ]
    },
    {
     "data": {
      "text/plain": [
       "<keras.callbacks.History at 0x1399c2e80>"
      ]
     },
     "execution_count": 56,
     "metadata": {},
     "output_type": "execute_result"
    }
   ],
   "source": [
    "model.fit(X_train, Y_train, # Train the model using the training set...\n",
    "          batch_size=batch_size, nb_epoch=num_epochs,\n",
    "          verbose=1, validation_split=0.1) # ...holding out 10% of the data for validat"
   ]
  },
  {
   "cell_type": "code",
   "execution_count": 58,
   "metadata": {},
   "outputs": [
    {
     "name": "stdout",
     "output_type": "stream",
     "text": [
      "10000/10000 [==============================] - 1s 107us/step\n"
     ]
    },
    {
     "data": {
      "text/plain": [
       "[0.0785205129150972, 0.9844]"
      ]
     },
     "execution_count": 58,
     "metadata": {},
     "output_type": "execute_result"
    }
   ],
   "source": [
    "model.evaluate(X_test, Y_test) # Evaluate the trained model on the test set!"
   ]
  },
  {
   "cell_type": "markdown",
   "metadata": {},
   "source": [
    "Accuracy=0.9844"
   ]
  }
 ],
 "metadata": {
  "kernelspec": {
   "display_name": "Python 3",
   "language": "python",
   "name": "python3"
  },
  "language_info": {
   "codemirror_mode": {
    "name": "ipython",
    "version": 3
   },
   "file_extension": ".py",
   "mimetype": "text/x-python",
   "name": "python",
   "nbconvert_exporter": "python",
   "pygments_lexer": "ipython3",
   "version": "3.6.3"
  }
 },
 "nbformat": 4,
 "nbformat_minor": 2
}
